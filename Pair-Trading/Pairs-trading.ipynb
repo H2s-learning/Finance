{
 "cells": [
  {
   "cell_type": "markdown",
   "metadata": {},
   "source": [
    "# <font color='red'>Pairs trading</font>"
   ]
  },
  {
   "cell_type": "markdown",
   "metadata": {},
   "source": [
    "Based on 'Evaluation of pairs-trading strategy at the Brazilian\n",
    "financial market'"
   ]
  },
  {
   "cell_type": "markdown",
   "metadata": {},
   "source": [
    "## Getting data"
   ]
  },
  {
   "cell_type": "code",
   "execution_count": 1,
   "metadata": {},
   "outputs": [],
   "source": [
    "import matplotlib.pyplot as plt\n",
    "import pandas as pd\n",
    "import datetime as dt\n",
    "import numpy as np\n",
    "from sklearn.preprocessing import MinMaxScaler\n",
    "from pandas_datareader import data\n",
    "import warnings\n",
    "warnings.simplefilter(action='ignore', category=FutureWarning)"
   ]
  },
  {
   "cell_type": "code",
   "execution_count": 2,
   "metadata": {},
   "outputs": [],
   "source": [
    "from statsmodels.tsa.stattools import adfuller"
   ]
  },
  {
   "cell_type": "code",
   "execution_count": 3,
   "metadata": {},
   "outputs": [],
   "source": [
    "%matplotlib inline "
   ]
  },
  {
   "cell_type": "code",
   "execution_count": 4,
   "metadata": {},
   "outputs": [],
   "source": [
    "painel = pd.read_csv('base-stocks.csv')"
   ]
  },
  {
   "cell_type": "code",
   "execution_count": 5,
   "metadata": {},
   "outputs": [
    {
     "data": {
      "text/html": [
       "<div>\n",
       "<style scoped>\n",
       "    .dataframe tbody tr th:only-of-type {\n",
       "        vertical-align: middle;\n",
       "    }\n",
       "\n",
       "    .dataframe tbody tr th {\n",
       "        vertical-align: top;\n",
       "    }\n",
       "\n",
       "    .dataframe thead th {\n",
       "        text-align: right;\n",
       "    }\n",
       "</style>\n",
       "<table border=\"1\" class=\"dataframe\">\n",
       "  <thead>\n",
       "    <tr style=\"text-align: right;\">\n",
       "      <th></th>\n",
       "      <th>Unnamed: 0</th>\n",
       "      <th>0</th>\n",
       "      <th>1</th>\n",
       "      <th>2</th>\n",
       "      <th>3</th>\n",
       "      <th>4</th>\n",
       "      <th>5</th>\n",
       "      <th>6</th>\n",
       "      <th>7</th>\n",
       "    </tr>\n",
       "  </thead>\n",
       "  <tbody>\n",
       "    <tr>\n",
       "      <th>0</th>\n",
       "      <td>0</td>\n",
       "      <td>2001-01-02</td>\n",
       "      <td>5.97125</td>\n",
       "      <td>5.72500</td>\n",
       "      <td>5.72500</td>\n",
       "      <td>5.91250</td>\n",
       "      <td>32521600.0</td>\n",
       "      <td>4.160120</td>\n",
       "      <td>PETR4.SA</td>\n",
       "    </tr>\n",
       "    <tr>\n",
       "      <th>1</th>\n",
       "      <td>1</td>\n",
       "      <td>2001-01-03</td>\n",
       "      <td>6.21250</td>\n",
       "      <td>5.82500</td>\n",
       "      <td>5.88750</td>\n",
       "      <td>6.21250</td>\n",
       "      <td>60508800.0</td>\n",
       "      <td>4.371204</td>\n",
       "      <td>PETR4.SA</td>\n",
       "    </tr>\n",
       "    <tr>\n",
       "      <th>2</th>\n",
       "      <td>2</td>\n",
       "      <td>2001-01-04</td>\n",
       "      <td>6.26875</td>\n",
       "      <td>6.19625</td>\n",
       "      <td>6.21625</td>\n",
       "      <td>6.23750</td>\n",
       "      <td>46118400.0</td>\n",
       "      <td>4.388796</td>\n",
       "      <td>PETR4.SA</td>\n",
       "    </tr>\n",
       "    <tr>\n",
       "      <th>3</th>\n",
       "      <td>3</td>\n",
       "      <td>2001-01-05</td>\n",
       "      <td>6.38750</td>\n",
       "      <td>6.16250</td>\n",
       "      <td>6.25000</td>\n",
       "      <td>6.25000</td>\n",
       "      <td>41360000.0</td>\n",
       "      <td>4.397591</td>\n",
       "      <td>PETR4.SA</td>\n",
       "    </tr>\n",
       "    <tr>\n",
       "      <th>4</th>\n",
       "      <td>4</td>\n",
       "      <td>2001-01-08</td>\n",
       "      <td>6.28750</td>\n",
       "      <td>6.13750</td>\n",
       "      <td>6.25000</td>\n",
       "      <td>6.17375</td>\n",
       "      <td>35968000.0</td>\n",
       "      <td>4.343941</td>\n",
       "      <td>PETR4.SA</td>\n",
       "    </tr>\n",
       "  </tbody>\n",
       "</table>\n",
       "</div>"
      ],
      "text/plain": [
       "   Unnamed: 0           0        1        2        3        4           5  \\\n",
       "0           0  2001-01-02  5.97125  5.72500  5.72500  5.91250  32521600.0   \n",
       "1           1  2001-01-03  6.21250  5.82500  5.88750  6.21250  60508800.0   \n",
       "2           2  2001-01-04  6.26875  6.19625  6.21625  6.23750  46118400.0   \n",
       "3           3  2001-01-05  6.38750  6.16250  6.25000  6.25000  41360000.0   \n",
       "4           4  2001-01-08  6.28750  6.13750  6.25000  6.17375  35968000.0   \n",
       "\n",
       "          6         7  \n",
       "0  4.160120  PETR4.SA  \n",
       "1  4.371204  PETR4.SA  \n",
       "2  4.388796  PETR4.SA  \n",
       "3  4.397591  PETR4.SA  \n",
       "4  4.343941  PETR4.SA  "
      ]
     },
     "execution_count": 5,
     "metadata": {},
     "output_type": "execute_result"
    }
   ],
   "source": [
    "painel.head()"
   ]
  },
  {
   "cell_type": "code",
   "execution_count": 6,
   "metadata": {},
   "outputs": [
    {
     "data": {
      "text/html": [
       "<div>\n",
       "<style scoped>\n",
       "    .dataframe tbody tr th:only-of-type {\n",
       "        vertical-align: middle;\n",
       "    }\n",
       "\n",
       "    .dataframe tbody tr th {\n",
       "        vertical-align: top;\n",
       "    }\n",
       "\n",
       "    .dataframe thead th {\n",
       "        text-align: right;\n",
       "    }\n",
       "</style>\n",
       "<table border=\"1\" class=\"dataframe\">\n",
       "  <thead>\n",
       "    <tr style=\"text-align: right;\">\n",
       "      <th></th>\n",
       "      <th>Unnamed: 0</th>\n",
       "      <th>0</th>\n",
       "      <th>1</th>\n",
       "      <th>2</th>\n",
       "      <th>3</th>\n",
       "      <th>4</th>\n",
       "      <th>5</th>\n",
       "      <th>6</th>\n",
       "      <th>7</th>\n",
       "    </tr>\n",
       "  </thead>\n",
       "  <tbody>\n",
       "    <tr>\n",
       "      <th>544641</th>\n",
       "      <td>544641</td>\n",
       "      <td>2019-06-26</td>\n",
       "      <td>5.30</td>\n",
       "      <td>5.15</td>\n",
       "      <td>5.23</td>\n",
       "      <td>5.15</td>\n",
       "      <td>29300.0</td>\n",
       "      <td>5.15</td>\n",
       "      <td>BBRK3.SA</td>\n",
       "    </tr>\n",
       "    <tr>\n",
       "      <th>544642</th>\n",
       "      <td>544642</td>\n",
       "      <td>2019-06-27</td>\n",
       "      <td>5.22</td>\n",
       "      <td>5.04</td>\n",
       "      <td>5.13</td>\n",
       "      <td>5.15</td>\n",
       "      <td>45900.0</td>\n",
       "      <td>5.15</td>\n",
       "      <td>BBRK3.SA</td>\n",
       "    </tr>\n",
       "    <tr>\n",
       "      <th>544643</th>\n",
       "      <td>544643</td>\n",
       "      <td>2019-06-28</td>\n",
       "      <td>5.30</td>\n",
       "      <td>5.15</td>\n",
       "      <td>5.29</td>\n",
       "      <td>5.25</td>\n",
       "      <td>104400.0</td>\n",
       "      <td>5.25</td>\n",
       "      <td>BBRK3.SA</td>\n",
       "    </tr>\n",
       "    <tr>\n",
       "      <th>544644</th>\n",
       "      <td>544644</td>\n",
       "      <td>2019-07-01</td>\n",
       "      <td>5.38</td>\n",
       "      <td>5.17</td>\n",
       "      <td>5.28</td>\n",
       "      <td>5.23</td>\n",
       "      <td>56500.0</td>\n",
       "      <td>5.23</td>\n",
       "      <td>BBRK3.SA</td>\n",
       "    </tr>\n",
       "    <tr>\n",
       "      <th>544645</th>\n",
       "      <td>544645</td>\n",
       "      <td>2019-07-02</td>\n",
       "      <td>5.25</td>\n",
       "      <td>5.17</td>\n",
       "      <td>5.25</td>\n",
       "      <td>5.20</td>\n",
       "      <td>157400.0</td>\n",
       "      <td>5.20</td>\n",
       "      <td>BBRK3.SA</td>\n",
       "    </tr>\n",
       "  </tbody>\n",
       "</table>\n",
       "</div>"
      ],
      "text/plain": [
       "        Unnamed: 0           0     1     2     3     4         5     6  \\\n",
       "544641      544641  2019-06-26  5.30  5.15  5.23  5.15   29300.0  5.15   \n",
       "544642      544642  2019-06-27  5.22  5.04  5.13  5.15   45900.0  5.15   \n",
       "544643      544643  2019-06-28  5.30  5.15  5.29  5.25  104400.0  5.25   \n",
       "544644      544644  2019-07-01  5.38  5.17  5.28  5.23   56500.0  5.23   \n",
       "544645      544645  2019-07-02  5.25  5.17  5.25  5.20  157400.0  5.20   \n",
       "\n",
       "               7  \n",
       "544641  BBRK3.SA  \n",
       "544642  BBRK3.SA  \n",
       "544643  BBRK3.SA  \n",
       "544644  BBRK3.SA  \n",
       "544645  BBRK3.SA  "
      ]
     },
     "execution_count": 6,
     "metadata": {},
     "output_type": "execute_result"
    }
   ],
   "source": [
    "painel.tail()"
   ]
  },
  {
   "cell_type": "code",
   "execution_count": 7,
   "metadata": {},
   "outputs": [],
   "source": [
    "painel = painel.iloc[:, 1:]"
   ]
  },
  {
   "cell_type": "code",
   "execution_count": 8,
   "metadata": {},
   "outputs": [],
   "source": [
    "painel.columns = ['Date', 'High','Low','Open','Close','Volume','Adj Close', 'Symbol']"
   ]
  },
  {
   "cell_type": "code",
   "execution_count": 9,
   "metadata": {},
   "outputs": [],
   "source": [
    "Tickerlist = painel['Symbol'].unique()"
   ]
  },
  {
   "cell_type": "code",
   "execution_count": 10,
   "metadata": {},
   "outputs": [],
   "source": [
    "Tickerlist = Tickerlist[Tickerlist!='NEOE3.SA']   ####NEO3 giving problem"
   ]
  },
  {
   "cell_type": "code",
   "execution_count": 11,
   "metadata": {},
   "outputs": [],
   "source": [
    "N = len(Tickerlist)"
   ]
  },
  {
   "cell_type": "code",
   "execution_count": 12,
   "metadata": {},
   "outputs": [],
   "source": [
    "### Dataset with close prices"
   ]
  },
  {
   "cell_type": "code",
   "execution_count": 13,
   "metadata": {},
   "outputs": [],
   "source": [
    "index = painel['Date'].unique()"
   ]
  },
  {
   "cell_type": "code",
   "execution_count": 14,
   "metadata": {},
   "outputs": [],
   "source": [
    "index.sort()"
   ]
  },
  {
   "cell_type": "code",
   "execution_count": 15,
   "metadata": {},
   "outputs": [],
   "source": [
    "painel_close0 = pd.DataFrame(index = index)"
   ]
  },
  {
   "cell_type": "code",
   "execution_count": 16,
   "metadata": {},
   "outputs": [
    {
     "data": {
      "text/html": [
       "<div>\n",
       "<style scoped>\n",
       "    .dataframe tbody tr th:only-of-type {\n",
       "        vertical-align: middle;\n",
       "    }\n",
       "\n",
       "    .dataframe tbody tr th {\n",
       "        vertical-align: top;\n",
       "    }\n",
       "\n",
       "    .dataframe thead th {\n",
       "        text-align: right;\n",
       "    }\n",
       "</style>\n",
       "<table border=\"1\" class=\"dataframe\">\n",
       "  <thead>\n",
       "    <tr style=\"text-align: right;\">\n",
       "      <th></th>\n",
       "    </tr>\n",
       "  </thead>\n",
       "  <tbody>\n",
       "    <tr>\n",
       "      <th>2019-06-26</th>\n",
       "    </tr>\n",
       "    <tr>\n",
       "      <th>2019-06-27</th>\n",
       "    </tr>\n",
       "    <tr>\n",
       "      <th>2019-06-28</th>\n",
       "    </tr>\n",
       "    <tr>\n",
       "      <th>2019-07-01</th>\n",
       "    </tr>\n",
       "    <tr>\n",
       "      <th>2019-07-02</th>\n",
       "    </tr>\n",
       "  </tbody>\n",
       "</table>\n",
       "</div>"
      ],
      "text/plain": [
       "Empty DataFrame\n",
       "Columns: []\n",
       "Index: [2019-06-26, 2019-06-27, 2019-06-28, 2019-07-01, 2019-07-02]"
      ]
     },
     "execution_count": 16,
     "metadata": {},
     "output_type": "execute_result"
    }
   ],
   "source": [
    "painel_close0.tail()"
   ]
  },
  {
   "cell_type": "code",
   "execution_count": 17,
   "metadata": {},
   "outputs": [],
   "source": [
    "for ticker in Tickerlist:\n",
    "    df = (painel[painel['Symbol']==ticker]).set_index('Date')\n",
    "    painel_close0[ticker] = df['Close']\n",
    "    "
   ]
  },
  {
   "cell_type": "code",
   "execution_count": 18,
   "metadata": {},
   "outputs": [],
   "source": [
    "### removing symbols with more than 0.1 of NaN"
   ]
  },
  {
   "cell_type": "code",
   "execution_count": 19,
   "metadata": {},
   "outputs": [],
   "source": [
    "prop_na = painel_close0.isna().sum()/len(index)"
   ]
  },
  {
   "cell_type": "code",
   "execution_count": 20,
   "metadata": {},
   "outputs": [],
   "source": [
    "Symbols = [ticker for ticker in Tickerlist if prop_na[ticker]<0.1]"
   ]
  },
  {
   "cell_type": "code",
   "execution_count": 21,
   "metadata": {},
   "outputs": [],
   "source": [
    "painel_close = painel_close0.loc[:,Symbols]"
   ]
  },
  {
   "cell_type": "code",
   "execution_count": 22,
   "metadata": {},
   "outputs": [
    {
     "data": {
      "text/html": [
       "<div>\n",
       "<style scoped>\n",
       "    .dataframe tbody tr th:only-of-type {\n",
       "        vertical-align: middle;\n",
       "    }\n",
       "\n",
       "    .dataframe tbody tr th {\n",
       "        vertical-align: top;\n",
       "    }\n",
       "\n",
       "    .dataframe thead th {\n",
       "        text-align: right;\n",
       "    }\n",
       "</style>\n",
       "<table border=\"1\" class=\"dataframe\">\n",
       "  <thead>\n",
       "    <tr style=\"text-align: right;\">\n",
       "      <th></th>\n",
       "      <th>PETR4.SA</th>\n",
       "      <th>VALE3.SA</th>\n",
       "      <th>ITUB4.SA</th>\n",
       "      <th>BBAS3.SA</th>\n",
       "      <th>PETR3.SA</th>\n",
       "      <th>ABEV3.SA</th>\n",
       "      <th>ITSA4.SA</th>\n",
       "      <th>VVAR3.SA</th>\n",
       "      <th>BRFS3.SA</th>\n",
       "      <th>LREN3.SA</th>\n",
       "      <th>...</th>\n",
       "      <th>ITSA3.SA</th>\n",
       "      <th>ELPL3.SA</th>\n",
       "      <th>VIVT3.SA</th>\n",
       "      <th>PMAM3.SA</th>\n",
       "      <th>RPMG3.SA</th>\n",
       "      <th>FJTA4.SA</th>\n",
       "      <th>PNVL3.SA</th>\n",
       "      <th>KEPL3.SA</th>\n",
       "      <th>SHUL4.SA</th>\n",
       "      <th>RSID3.SA</th>\n",
       "    </tr>\n",
       "  </thead>\n",
       "  <tbody>\n",
       "    <tr>\n",
       "      <th>2019-06-04</th>\n",
       "      <td>26.200001</td>\n",
       "      <td>49.110001</td>\n",
       "      <td>35.020000</td>\n",
       "      <td>52.939999</td>\n",
       "      <td>29.020000</td>\n",
       "      <td>17.350000</td>\n",
       "      <td>12.45</td>\n",
       "      <td>4.86</td>\n",
       "      <td>28.059999</td>\n",
       "      <td>43.259998</td>\n",
       "      <td>...</td>\n",
       "      <td>14.10</td>\n",
       "      <td>34.000000</td>\n",
       "      <td>43.200001</td>\n",
       "      <td>21.840000</td>\n",
       "      <td>1.82</td>\n",
       "      <td>3.39</td>\n",
       "      <td>399.000000</td>\n",
       "      <td>18.950001</td>\n",
       "      <td>7.70</td>\n",
       "      <td>3.97</td>\n",
       "    </tr>\n",
       "    <tr>\n",
       "      <th>2019-06-05</th>\n",
       "      <td>25.860001</td>\n",
       "      <td>48.389999</td>\n",
       "      <td>34.340000</td>\n",
       "      <td>51.480000</td>\n",
       "      <td>28.610001</td>\n",
       "      <td>17.410000</td>\n",
       "      <td>12.15</td>\n",
       "      <td>4.65</td>\n",
       "      <td>27.100000</td>\n",
       "      <td>42.669998</td>\n",
       "      <td>...</td>\n",
       "      <td>13.86</td>\n",
       "      <td>34.000000</td>\n",
       "      <td>42.650002</td>\n",
       "      <td>21.840000</td>\n",
       "      <td>1.85</td>\n",
       "      <td>3.38</td>\n",
       "      <td>401.000000</td>\n",
       "      <td>18.900000</td>\n",
       "      <td>7.70</td>\n",
       "      <td>4.06</td>\n",
       "    </tr>\n",
       "    <tr>\n",
       "      <th>2019-06-06</th>\n",
       "      <td>26.280001</td>\n",
       "      <td>48.799999</td>\n",
       "      <td>34.700001</td>\n",
       "      <td>52.790001</td>\n",
       "      <td>29.059999</td>\n",
       "      <td>17.639999</td>\n",
       "      <td>12.29</td>\n",
       "      <td>4.95</td>\n",
       "      <td>27.410000</td>\n",
       "      <td>43.099998</td>\n",
       "      <td>...</td>\n",
       "      <td>13.96</td>\n",
       "      <td>34.099998</td>\n",
       "      <td>42.099998</td>\n",
       "      <td>21.450001</td>\n",
       "      <td>1.88</td>\n",
       "      <td>3.33</td>\n",
       "      <td>401.000000</td>\n",
       "      <td>18.799999</td>\n",
       "      <td>7.83</td>\n",
       "      <td>4.16</td>\n",
       "    </tr>\n",
       "    <tr>\n",
       "      <th>2019-06-07</th>\n",
       "      <td>26.760000</td>\n",
       "      <td>48.660000</td>\n",
       "      <td>35.070000</td>\n",
       "      <td>52.360001</td>\n",
       "      <td>29.850000</td>\n",
       "      <td>17.610001</td>\n",
       "      <td>12.40</td>\n",
       "      <td>5.00</td>\n",
       "      <td>26.160000</td>\n",
       "      <td>44.360001</td>\n",
       "      <td>...</td>\n",
       "      <td>14.15</td>\n",
       "      <td>33.910000</td>\n",
       "      <td>41.959999</td>\n",
       "      <td>21.820000</td>\n",
       "      <td>1.87</td>\n",
       "      <td>3.38</td>\n",
       "      <td>401.000000</td>\n",
       "      <td>18.700001</td>\n",
       "      <td>8.00</td>\n",
       "      <td>4.39</td>\n",
       "    </tr>\n",
       "    <tr>\n",
       "      <th>2019-06-10</th>\n",
       "      <td>26.650000</td>\n",
       "      <td>48.340000</td>\n",
       "      <td>34.630001</td>\n",
       "      <td>51.869999</td>\n",
       "      <td>29.350000</td>\n",
       "      <td>17.650000</td>\n",
       "      <td>12.21</td>\n",
       "      <td>5.06</td>\n",
       "      <td>27.200001</td>\n",
       "      <td>44.770000</td>\n",
       "      <td>...</td>\n",
       "      <td>13.95</td>\n",
       "      <td>34.230000</td>\n",
       "      <td>43.299999</td>\n",
       "      <td>21.469999</td>\n",
       "      <td>1.86</td>\n",
       "      <td>3.35</td>\n",
       "      <td>401.000000</td>\n",
       "      <td>18.480000</td>\n",
       "      <td>7.95</td>\n",
       "      <td>4.47</td>\n",
       "    </tr>\n",
       "    <tr>\n",
       "      <th>2019-06-11</th>\n",
       "      <td>27.160000</td>\n",
       "      <td>51.430000</td>\n",
       "      <td>34.799999</td>\n",
       "      <td>52.900002</td>\n",
       "      <td>29.950001</td>\n",
       "      <td>17.719999</td>\n",
       "      <td>12.24</td>\n",
       "      <td>5.00</td>\n",
       "      <td>27.000000</td>\n",
       "      <td>45.270000</td>\n",
       "      <td>...</td>\n",
       "      <td>13.85</td>\n",
       "      <td>34.230000</td>\n",
       "      <td>43.299999</td>\n",
       "      <td>21.600000</td>\n",
       "      <td>1.85</td>\n",
       "      <td>3.36</td>\n",
       "      <td>404.000000</td>\n",
       "      <td>18.520000</td>\n",
       "      <td>8.00</td>\n",
       "      <td>4.61</td>\n",
       "    </tr>\n",
       "    <tr>\n",
       "      <th>2019-06-12</th>\n",
       "      <td>26.850000</td>\n",
       "      <td>51.490002</td>\n",
       "      <td>34.599998</td>\n",
       "      <td>52.259998</td>\n",
       "      <td>29.510000</td>\n",
       "      <td>17.680000</td>\n",
       "      <td>12.18</td>\n",
       "      <td>4.84</td>\n",
       "      <td>27.000000</td>\n",
       "      <td>45.400002</td>\n",
       "      <td>...</td>\n",
       "      <td>13.75</td>\n",
       "      <td>34.049999</td>\n",
       "      <td>43.619999</td>\n",
       "      <td>21.410000</td>\n",
       "      <td>1.86</td>\n",
       "      <td>3.31</td>\n",
       "      <td>404.000000</td>\n",
       "      <td>18.500000</td>\n",
       "      <td>7.90</td>\n",
       "      <td>4.48</td>\n",
       "    </tr>\n",
       "    <tr>\n",
       "      <th>2019-06-13</th>\n",
       "      <td>27.180000</td>\n",
       "      <td>51.849998</td>\n",
       "      <td>33.980000</td>\n",
       "      <td>51.430000</td>\n",
       "      <td>29.910000</td>\n",
       "      <td>17.850000</td>\n",
       "      <td>12.02</td>\n",
       "      <td>5.04</td>\n",
       "      <td>28.570000</td>\n",
       "      <td>45.750000</td>\n",
       "      <td>...</td>\n",
       "      <td>13.35</td>\n",
       "      <td>34.029999</td>\n",
       "      <td>43.750000</td>\n",
       "      <td>21.200001</td>\n",
       "      <td>1.82</td>\n",
       "      <td>3.28</td>\n",
       "      <td>404.000000</td>\n",
       "      <td>19.000000</td>\n",
       "      <td>8.00</td>\n",
       "      <td>4.31</td>\n",
       "    </tr>\n",
       "    <tr>\n",
       "      <th>2019-06-14</th>\n",
       "      <td>27.059999</td>\n",
       "      <td>51.400002</td>\n",
       "      <td>33.990002</td>\n",
       "      <td>50.520000</td>\n",
       "      <td>30.190001</td>\n",
       "      <td>17.639999</td>\n",
       "      <td>11.98</td>\n",
       "      <td>4.97</td>\n",
       "      <td>29.100000</td>\n",
       "      <td>45.840000</td>\n",
       "      <td>...</td>\n",
       "      <td>13.37</td>\n",
       "      <td>34.009998</td>\n",
       "      <td>43.869999</td>\n",
       "      <td>21.070000</td>\n",
       "      <td>1.84</td>\n",
       "      <td>3.27</td>\n",
       "      <td>404.000000</td>\n",
       "      <td>19.580000</td>\n",
       "      <td>7.88</td>\n",
       "      <td>4.09</td>\n",
       "    </tr>\n",
       "    <tr>\n",
       "      <th>2019-06-17</th>\n",
       "      <td>27.110001</td>\n",
       "      <td>50.200001</td>\n",
       "      <td>33.950001</td>\n",
       "      <td>50.470001</td>\n",
       "      <td>30.150000</td>\n",
       "      <td>17.799999</td>\n",
       "      <td>11.97</td>\n",
       "      <td>5.07</td>\n",
       "      <td>28.700001</td>\n",
       "      <td>46.250000</td>\n",
       "      <td>...</td>\n",
       "      <td>13.47</td>\n",
       "      <td>34.490002</td>\n",
       "      <td>42.610001</td>\n",
       "      <td>20.830000</td>\n",
       "      <td>1.82</td>\n",
       "      <td>3.33</td>\n",
       "      <td>404.000000</td>\n",
       "      <td>19.360001</td>\n",
       "      <td>7.81</td>\n",
       "      <td>4.30</td>\n",
       "    </tr>\n",
       "    <tr>\n",
       "      <th>2019-06-18</th>\n",
       "      <td>27.450001</td>\n",
       "      <td>52.000000</td>\n",
       "      <td>34.830002</td>\n",
       "      <td>51.650002</td>\n",
       "      <td>30.610001</td>\n",
       "      <td>18.049999</td>\n",
       "      <td>12.20</td>\n",
       "      <td>5.07</td>\n",
       "      <td>28.200001</td>\n",
       "      <td>46.500000</td>\n",
       "      <td>...</td>\n",
       "      <td>13.74</td>\n",
       "      <td>34.040001</td>\n",
       "      <td>41.910000</td>\n",
       "      <td>20.500000</td>\n",
       "      <td>1.84</td>\n",
       "      <td>3.31</td>\n",
       "      <td>390.000000</td>\n",
       "      <td>19.049999</td>\n",
       "      <td>7.62</td>\n",
       "      <td>4.37</td>\n",
       "    </tr>\n",
       "    <tr>\n",
       "      <th>2019-06-19</th>\n",
       "      <td>27.520000</td>\n",
       "      <td>52.299999</td>\n",
       "      <td>35.380001</td>\n",
       "      <td>52.500000</td>\n",
       "      <td>30.840000</td>\n",
       "      <td>18.200001</td>\n",
       "      <td>12.38</td>\n",
       "      <td>5.06</td>\n",
       "      <td>28.600000</td>\n",
       "      <td>47.849998</td>\n",
       "      <td>...</td>\n",
       "      <td>13.86</td>\n",
       "      <td>34.000000</td>\n",
       "      <td>42.000000</td>\n",
       "      <td>20.930000</td>\n",
       "      <td>1.82</td>\n",
       "      <td>3.22</td>\n",
       "      <td>403.850006</td>\n",
       "      <td>19.309999</td>\n",
       "      <td>7.78</td>\n",
       "      <td>4.45</td>\n",
       "    </tr>\n",
       "    <tr>\n",
       "      <th>2019-06-21</th>\n",
       "      <td>28.280001</td>\n",
       "      <td>52.439999</td>\n",
       "      <td>36.180000</td>\n",
       "      <td>52.910000</td>\n",
       "      <td>31.790001</td>\n",
       "      <td>18.450001</td>\n",
       "      <td>12.60</td>\n",
       "      <td>5.10</td>\n",
       "      <td>28.660000</td>\n",
       "      <td>46.980000</td>\n",
       "      <td>...</td>\n",
       "      <td>14.07</td>\n",
       "      <td>34.000000</td>\n",
       "      <td>42.000000</td>\n",
       "      <td>21.150000</td>\n",
       "      <td>1.80</td>\n",
       "      <td>3.24</td>\n",
       "      <td>403.850006</td>\n",
       "      <td>19.650000</td>\n",
       "      <td>7.89</td>\n",
       "      <td>4.56</td>\n",
       "    </tr>\n",
       "    <tr>\n",
       "      <th>2019-06-24</th>\n",
       "      <td>28.250000</td>\n",
       "      <td>52.400002</td>\n",
       "      <td>36.099998</td>\n",
       "      <td>53.040001</td>\n",
       "      <td>31.660000</td>\n",
       "      <td>18.299999</td>\n",
       "      <td>12.65</td>\n",
       "      <td>5.11</td>\n",
       "      <td>28.889999</td>\n",
       "      <td>47.400002</td>\n",
       "      <td>...</td>\n",
       "      <td>13.97</td>\n",
       "      <td>34.000000</td>\n",
       "      <td>43.220001</td>\n",
       "      <td>21.150000</td>\n",
       "      <td>1.80</td>\n",
       "      <td>3.24</td>\n",
       "      <td>403.929993</td>\n",
       "      <td>19.500000</td>\n",
       "      <td>8.20</td>\n",
       "      <td>4.82</td>\n",
       "    </tr>\n",
       "    <tr>\n",
       "      <th>2019-06-25</th>\n",
       "      <td>27.510000</td>\n",
       "      <td>51.380001</td>\n",
       "      <td>35.650002</td>\n",
       "      <td>52.549999</td>\n",
       "      <td>30.700001</td>\n",
       "      <td>18.170000</td>\n",
       "      <td>12.58</td>\n",
       "      <td>5.04</td>\n",
       "      <td>28.750000</td>\n",
       "      <td>46.230000</td>\n",
       "      <td>...</td>\n",
       "      <td>13.77</td>\n",
       "      <td>34.040001</td>\n",
       "      <td>42.880001</td>\n",
       "      <td>21.490000</td>\n",
       "      <td>1.83</td>\n",
       "      <td>3.30</td>\n",
       "      <td>403.929993</td>\n",
       "      <td>19.450001</td>\n",
       "      <td>8.00</td>\n",
       "      <td>4.74</td>\n",
       "    </tr>\n",
       "    <tr>\n",
       "      <th>2019-06-26</th>\n",
       "      <td>27.670000</td>\n",
       "      <td>51.580002</td>\n",
       "      <td>36.500000</td>\n",
       "      <td>53.689999</td>\n",
       "      <td>30.549999</td>\n",
       "      <td>18.100000</td>\n",
       "      <td>12.98</td>\n",
       "      <td>4.98</td>\n",
       "      <td>28.520000</td>\n",
       "      <td>46.639999</td>\n",
       "      <td>...</td>\n",
       "      <td>14.06</td>\n",
       "      <td>34.099998</td>\n",
       "      <td>43.090000</td>\n",
       "      <td>21.639999</td>\n",
       "      <td>1.81</td>\n",
       "      <td>3.32</td>\n",
       "      <td>402.989990</td>\n",
       "      <td>19.350000</td>\n",
       "      <td>8.07</td>\n",
       "      <td>4.75</td>\n",
       "    </tr>\n",
       "    <tr>\n",
       "      <th>2019-06-27</th>\n",
       "      <td>27.230000</td>\n",
       "      <td>51.700001</td>\n",
       "      <td>36.250000</td>\n",
       "      <td>53.799999</td>\n",
       "      <td>29.889999</td>\n",
       "      <td>18.049999</td>\n",
       "      <td>12.94</td>\n",
       "      <td>4.97</td>\n",
       "      <td>29.100000</td>\n",
       "      <td>46.860001</td>\n",
       "      <td>...</td>\n",
       "      <td>13.30</td>\n",
       "      <td>46.040001</td>\n",
       "      <td>42.990002</td>\n",
       "      <td>21.740000</td>\n",
       "      <td>1.83</td>\n",
       "      <td>3.40</td>\n",
       "      <td>402.989990</td>\n",
       "      <td>19.370001</td>\n",
       "      <td>8.14</td>\n",
       "      <td>4.66</td>\n",
       "    </tr>\n",
       "    <tr>\n",
       "      <th>2019-06-28</th>\n",
       "      <td>27.410000</td>\n",
       "      <td>51.820000</td>\n",
       "      <td>36.259998</td>\n",
       "      <td>53.939999</td>\n",
       "      <td>30.020000</td>\n",
       "      <td>17.889999</td>\n",
       "      <td>12.89</td>\n",
       "      <td>5.07</td>\n",
       "      <td>29.520000</td>\n",
       "      <td>47.160000</td>\n",
       "      <td>...</td>\n",
       "      <td>13.16</td>\n",
       "      <td>45.950001</td>\n",
       "      <td>42.250000</td>\n",
       "      <td>21.879999</td>\n",
       "      <td>1.84</td>\n",
       "      <td>3.40</td>\n",
       "      <td>402.989990</td>\n",
       "      <td>19.360001</td>\n",
       "      <td>8.24</td>\n",
       "      <td>4.69</td>\n",
       "    </tr>\n",
       "    <tr>\n",
       "      <th>2019-07-01</th>\n",
       "      <td>27.260000</td>\n",
       "      <td>53.650002</td>\n",
       "      <td>36.080002</td>\n",
       "      <td>53.880001</td>\n",
       "      <td>29.920000</td>\n",
       "      <td>17.809999</td>\n",
       "      <td>12.92</td>\n",
       "      <td>5.12</td>\n",
       "      <td>32.080002</td>\n",
       "      <td>46.430000</td>\n",
       "      <td>...</td>\n",
       "      <td>13.25</td>\n",
       "      <td>46.070000</td>\n",
       "      <td>41.599998</td>\n",
       "      <td>21.760000</td>\n",
       "      <td>1.90</td>\n",
       "      <td>3.43</td>\n",
       "      <td>402.989990</td>\n",
       "      <td>19.250000</td>\n",
       "      <td>8.14</td>\n",
       "      <td>4.69</td>\n",
       "    </tr>\n",
       "    <tr>\n",
       "      <th>2019-07-02</th>\n",
       "      <td>26.820000</td>\n",
       "      <td>51.389999</td>\n",
       "      <td>35.950001</td>\n",
       "      <td>53.189999</td>\n",
       "      <td>29.469999</td>\n",
       "      <td>18.129999</td>\n",
       "      <td>12.78</td>\n",
       "      <td>5.45</td>\n",
       "      <td>33.200001</td>\n",
       "      <td>46.720001</td>\n",
       "      <td>...</td>\n",
       "      <td>13.27</td>\n",
       "      <td>46.080002</td>\n",
       "      <td>42.720001</td>\n",
       "      <td>21.750000</td>\n",
       "      <td>2.15</td>\n",
       "      <td>3.41</td>\n",
       "      <td>405.000000</td>\n",
       "      <td>19.010000</td>\n",
       "      <td>8.00</td>\n",
       "      <td>4.65</td>\n",
       "    </tr>\n",
       "  </tbody>\n",
       "</table>\n",
       "<p>20 rows × 60 columns</p>\n",
       "</div>"
      ],
      "text/plain": [
       "             PETR4.SA   VALE3.SA   ITUB4.SA   BBAS3.SA   PETR3.SA   ABEV3.SA  \\\n",
       "2019-06-04  26.200001  49.110001  35.020000  52.939999  29.020000  17.350000   \n",
       "2019-06-05  25.860001  48.389999  34.340000  51.480000  28.610001  17.410000   \n",
       "2019-06-06  26.280001  48.799999  34.700001  52.790001  29.059999  17.639999   \n",
       "2019-06-07  26.760000  48.660000  35.070000  52.360001  29.850000  17.610001   \n",
       "2019-06-10  26.650000  48.340000  34.630001  51.869999  29.350000  17.650000   \n",
       "2019-06-11  27.160000  51.430000  34.799999  52.900002  29.950001  17.719999   \n",
       "2019-06-12  26.850000  51.490002  34.599998  52.259998  29.510000  17.680000   \n",
       "2019-06-13  27.180000  51.849998  33.980000  51.430000  29.910000  17.850000   \n",
       "2019-06-14  27.059999  51.400002  33.990002  50.520000  30.190001  17.639999   \n",
       "2019-06-17  27.110001  50.200001  33.950001  50.470001  30.150000  17.799999   \n",
       "2019-06-18  27.450001  52.000000  34.830002  51.650002  30.610001  18.049999   \n",
       "2019-06-19  27.520000  52.299999  35.380001  52.500000  30.840000  18.200001   \n",
       "2019-06-21  28.280001  52.439999  36.180000  52.910000  31.790001  18.450001   \n",
       "2019-06-24  28.250000  52.400002  36.099998  53.040001  31.660000  18.299999   \n",
       "2019-06-25  27.510000  51.380001  35.650002  52.549999  30.700001  18.170000   \n",
       "2019-06-26  27.670000  51.580002  36.500000  53.689999  30.549999  18.100000   \n",
       "2019-06-27  27.230000  51.700001  36.250000  53.799999  29.889999  18.049999   \n",
       "2019-06-28  27.410000  51.820000  36.259998  53.939999  30.020000  17.889999   \n",
       "2019-07-01  27.260000  53.650002  36.080002  53.880001  29.920000  17.809999   \n",
       "2019-07-02  26.820000  51.389999  35.950001  53.189999  29.469999  18.129999   \n",
       "\n",
       "            ITSA4.SA  VVAR3.SA   BRFS3.SA   LREN3.SA  ...  ITSA3.SA  \\\n",
       "2019-06-04     12.45      4.86  28.059999  43.259998  ...     14.10   \n",
       "2019-06-05     12.15      4.65  27.100000  42.669998  ...     13.86   \n",
       "2019-06-06     12.29      4.95  27.410000  43.099998  ...     13.96   \n",
       "2019-06-07     12.40      5.00  26.160000  44.360001  ...     14.15   \n",
       "2019-06-10     12.21      5.06  27.200001  44.770000  ...     13.95   \n",
       "2019-06-11     12.24      5.00  27.000000  45.270000  ...     13.85   \n",
       "2019-06-12     12.18      4.84  27.000000  45.400002  ...     13.75   \n",
       "2019-06-13     12.02      5.04  28.570000  45.750000  ...     13.35   \n",
       "2019-06-14     11.98      4.97  29.100000  45.840000  ...     13.37   \n",
       "2019-06-17     11.97      5.07  28.700001  46.250000  ...     13.47   \n",
       "2019-06-18     12.20      5.07  28.200001  46.500000  ...     13.74   \n",
       "2019-06-19     12.38      5.06  28.600000  47.849998  ...     13.86   \n",
       "2019-06-21     12.60      5.10  28.660000  46.980000  ...     14.07   \n",
       "2019-06-24     12.65      5.11  28.889999  47.400002  ...     13.97   \n",
       "2019-06-25     12.58      5.04  28.750000  46.230000  ...     13.77   \n",
       "2019-06-26     12.98      4.98  28.520000  46.639999  ...     14.06   \n",
       "2019-06-27     12.94      4.97  29.100000  46.860001  ...     13.30   \n",
       "2019-06-28     12.89      5.07  29.520000  47.160000  ...     13.16   \n",
       "2019-07-01     12.92      5.12  32.080002  46.430000  ...     13.25   \n",
       "2019-07-02     12.78      5.45  33.200001  46.720001  ...     13.27   \n",
       "\n",
       "             ELPL3.SA   VIVT3.SA   PMAM3.SA  RPMG3.SA  FJTA4.SA    PNVL3.SA  \\\n",
       "2019-06-04  34.000000  43.200001  21.840000      1.82      3.39  399.000000   \n",
       "2019-06-05  34.000000  42.650002  21.840000      1.85      3.38  401.000000   \n",
       "2019-06-06  34.099998  42.099998  21.450001      1.88      3.33  401.000000   \n",
       "2019-06-07  33.910000  41.959999  21.820000      1.87      3.38  401.000000   \n",
       "2019-06-10  34.230000  43.299999  21.469999      1.86      3.35  401.000000   \n",
       "2019-06-11  34.230000  43.299999  21.600000      1.85      3.36  404.000000   \n",
       "2019-06-12  34.049999  43.619999  21.410000      1.86      3.31  404.000000   \n",
       "2019-06-13  34.029999  43.750000  21.200001      1.82      3.28  404.000000   \n",
       "2019-06-14  34.009998  43.869999  21.070000      1.84      3.27  404.000000   \n",
       "2019-06-17  34.490002  42.610001  20.830000      1.82      3.33  404.000000   \n",
       "2019-06-18  34.040001  41.910000  20.500000      1.84      3.31  390.000000   \n",
       "2019-06-19  34.000000  42.000000  20.930000      1.82      3.22  403.850006   \n",
       "2019-06-21  34.000000  42.000000  21.150000      1.80      3.24  403.850006   \n",
       "2019-06-24  34.000000  43.220001  21.150000      1.80      3.24  403.929993   \n",
       "2019-06-25  34.040001  42.880001  21.490000      1.83      3.30  403.929993   \n",
       "2019-06-26  34.099998  43.090000  21.639999      1.81      3.32  402.989990   \n",
       "2019-06-27  46.040001  42.990002  21.740000      1.83      3.40  402.989990   \n",
       "2019-06-28  45.950001  42.250000  21.879999      1.84      3.40  402.989990   \n",
       "2019-07-01  46.070000  41.599998  21.760000      1.90      3.43  402.989990   \n",
       "2019-07-02  46.080002  42.720001  21.750000      2.15      3.41  405.000000   \n",
       "\n",
       "             KEPL3.SA  SHUL4.SA  RSID3.SA  \n",
       "2019-06-04  18.950001      7.70      3.97  \n",
       "2019-06-05  18.900000      7.70      4.06  \n",
       "2019-06-06  18.799999      7.83      4.16  \n",
       "2019-06-07  18.700001      8.00      4.39  \n",
       "2019-06-10  18.480000      7.95      4.47  \n",
       "2019-06-11  18.520000      8.00      4.61  \n",
       "2019-06-12  18.500000      7.90      4.48  \n",
       "2019-06-13  19.000000      8.00      4.31  \n",
       "2019-06-14  19.580000      7.88      4.09  \n",
       "2019-06-17  19.360001      7.81      4.30  \n",
       "2019-06-18  19.049999      7.62      4.37  \n",
       "2019-06-19  19.309999      7.78      4.45  \n",
       "2019-06-21  19.650000      7.89      4.56  \n",
       "2019-06-24  19.500000      8.20      4.82  \n",
       "2019-06-25  19.450001      8.00      4.74  \n",
       "2019-06-26  19.350000      8.07      4.75  \n",
       "2019-06-27  19.370001      8.14      4.66  \n",
       "2019-06-28  19.360001      8.24      4.69  \n",
       "2019-07-01  19.250000      8.14      4.69  \n",
       "2019-07-02  19.010000      8.00      4.65  \n",
       "\n",
       "[20 rows x 60 columns]"
      ]
     },
     "execution_count": 22,
     "metadata": {},
     "output_type": "execute_result"
    }
   ],
   "source": [
    "painel_close.tail(20)"
   ]
  },
  {
   "cell_type": "code",
   "execution_count": 23,
   "metadata": {},
   "outputs": [],
   "source": [
    "painel_close= painel_close.fillna(method='ffill')"
   ]
  },
  {
   "cell_type": "code",
   "execution_count": 24,
   "metadata": {},
   "outputs": [],
   "source": [
    "painel_close = painel_close.dropna()"
   ]
  },
  {
   "cell_type": "code",
   "execution_count": 25,
   "metadata": {},
   "outputs": [],
   "source": [
    "### Transform data"
   ]
  },
  {
   "cell_type": "code",
   "execution_count": 26,
   "metadata": {},
   "outputs": [],
   "source": [
    "painel_transform = pd.DataFrame(index = painel_close.index)"
   ]
  },
  {
   "cell_type": "code",
   "execution_count": 27,
   "metadata": {},
   "outputs": [],
   "source": [
    "for ticker in Symbols:\n",
    "    df = painel_close[ticker]\n",
    "    average = df.rolling(window=20).mean()\n",
    "    std = df.rolling(window=20).std()\n",
    "    \n",
    "    painel_transform[ticker] = (df-average)/std"
   ]
  },
  {
   "cell_type": "code",
   "execution_count": 28,
   "metadata": {},
   "outputs": [],
   "source": [
    "painel_transform = painel_transform.dropna()"
   ]
  },
  {
   "cell_type": "code",
   "execution_count": 29,
   "metadata": {},
   "outputs": [
    {
     "data": {
      "text/html": [
       "<div>\n",
       "<style scoped>\n",
       "    .dataframe tbody tr th:only-of-type {\n",
       "        vertical-align: middle;\n",
       "    }\n",
       "\n",
       "    .dataframe tbody tr th {\n",
       "        vertical-align: top;\n",
       "    }\n",
       "\n",
       "    .dataframe thead th {\n",
       "        text-align: right;\n",
       "    }\n",
       "</style>\n",
       "<table border=\"1\" class=\"dataframe\">\n",
       "  <thead>\n",
       "    <tr style=\"text-align: right;\">\n",
       "      <th></th>\n",
       "      <th>PETR4.SA</th>\n",
       "      <th>VALE3.SA</th>\n",
       "      <th>ITUB4.SA</th>\n",
       "      <th>BBAS3.SA</th>\n",
       "      <th>PETR3.SA</th>\n",
       "      <th>ABEV3.SA</th>\n",
       "      <th>ITSA4.SA</th>\n",
       "      <th>VVAR3.SA</th>\n",
       "      <th>BRFS3.SA</th>\n",
       "      <th>LREN3.SA</th>\n",
       "      <th>...</th>\n",
       "      <th>ITSA3.SA</th>\n",
       "      <th>ELPL3.SA</th>\n",
       "      <th>VIVT3.SA</th>\n",
       "      <th>PMAM3.SA</th>\n",
       "      <th>RPMG3.SA</th>\n",
       "      <th>FJTA4.SA</th>\n",
       "      <th>PNVL3.SA</th>\n",
       "      <th>KEPL3.SA</th>\n",
       "      <th>SHUL4.SA</th>\n",
       "      <th>RSID3.SA</th>\n",
       "    </tr>\n",
       "  </thead>\n",
       "  <tbody>\n",
       "    <tr>\n",
       "      <th>2019-06-26</th>\n",
       "      <td>1.012916</td>\n",
       "      <td>0.744374</td>\n",
       "      <td>2.142602</td>\n",
       "      <td>1.861509</td>\n",
       "      <td>0.725531</td>\n",
       "      <td>0.983173</td>\n",
       "      <td>2.627019</td>\n",
       "      <td>0.245688</td>\n",
       "      <td>0.561417</td>\n",
       "      <td>0.947592</td>\n",
       "      <td>...</td>\n",
       "      <td>0.726485</td>\n",
       "      <td>0.463893</td>\n",
       "      <td>0.521613</td>\n",
       "      <td>0.859232</td>\n",
       "      <td>-1.163868</td>\n",
       "      <td>-0.293575</td>\n",
       "      <td>0.521186</td>\n",
       "      <td>0.900787</td>\n",
       "      <td>1.095281</td>\n",
       "      <td>1.437296</td>\n",
       "    </tr>\n",
       "    <tr>\n",
       "      <th>2019-06-27</th>\n",
       "      <td>0.388252</td>\n",
       "      <td>0.751250</td>\n",
       "      <td>1.569247</td>\n",
       "      <td>1.736039</td>\n",
       "      <td>0.011862</td>\n",
       "      <td>0.756806</td>\n",
       "      <td>2.048696</td>\n",
       "      <td>0.065840</td>\n",
       "      <td>1.201229</td>\n",
       "      <td>0.990734</td>\n",
       "      <td>...</td>\n",
       "      <td>-1.964970</td>\n",
       "      <td>4.157642</td>\n",
       "      <td>0.303425</td>\n",
       "      <td>1.043611</td>\n",
       "      <td>-0.453258</td>\n",
       "      <td>0.878108</td>\n",
       "      <td>0.444789</td>\n",
       "      <td>0.868040</td>\n",
       "      <td>1.285828</td>\n",
       "      <td>1.044230</td>\n",
       "    </tr>\n",
       "    <tr>\n",
       "      <th>2019-06-28</th>\n",
       "      <td>0.554583</td>\n",
       "      <td>0.761171</td>\n",
       "      <td>1.418502</td>\n",
       "      <td>1.647363</td>\n",
       "      <td>0.088402</td>\n",
       "      <td>0.202242</td>\n",
       "      <td>1.634065</td>\n",
       "      <td>0.757676</td>\n",
       "      <td>1.592685</td>\n",
       "      <td>1.072698</td>\n",
       "      <td>...</td>\n",
       "      <td>-2.059257</td>\n",
       "      <td>2.893629</td>\n",
       "      <td>-0.818366</td>\n",
       "      <td>1.314360</td>\n",
       "      <td>-0.036099</td>\n",
       "      <td>1.029559</td>\n",
       "      <td>0.363940</td>\n",
       "      <td>0.762547</td>\n",
       "      <td>1.605883</td>\n",
       "      <td>1.045704</td>\n",
       "    </tr>\n",
       "    <tr>\n",
       "      <th>2019-07-01</th>\n",
       "      <td>0.266533</td>\n",
       "      <td>1.709629</td>\n",
       "      <td>1.091244</td>\n",
       "      <td>1.406938</td>\n",
       "      <td>-0.119565</td>\n",
       "      <td>-0.096018</td>\n",
       "      <td>1.534560</td>\n",
       "      <td>1.114309</td>\n",
       "      <td>2.996202</td>\n",
       "      <td>0.529488</td>\n",
       "      <td>...</td>\n",
       "      <td>-1.575604</td>\n",
       "      <td>2.324193</td>\n",
       "      <td>-1.609754</td>\n",
       "      <td>0.938621</td>\n",
       "      <td>2.129854</td>\n",
       "      <td>1.556186</td>\n",
       "      <td>0.309300</td>\n",
       "      <td>0.408321</td>\n",
       "      <td>1.192457</td>\n",
       "      <td>0.966010</td>\n",
       "    </tr>\n",
       "    <tr>\n",
       "      <th>2019-07-02</th>\n",
       "      <td>-0.498947</td>\n",
       "      <td>0.242000</td>\n",
       "      <td>0.865073</td>\n",
       "      <td>0.666214</td>\n",
       "      <td>-0.715159</td>\n",
       "      <td>0.858397</td>\n",
       "      <td>1.016771</td>\n",
       "      <td>2.861342</td>\n",
       "      <td>2.788849</td>\n",
       "      <td>0.644902</td>\n",
       "      <td>...</td>\n",
       "      <td>-1.353750</td>\n",
       "      <td>1.955864</td>\n",
       "      <td>-0.045784</td>\n",
       "      <td>0.830600</td>\n",
       "      <td>3.977012</td>\n",
       "      <td>1.257434</td>\n",
       "      <td>0.834001</td>\n",
       "      <td>-0.257141</td>\n",
       "      <td>0.337231</td>\n",
       "      <td>0.753568</td>\n",
       "    </tr>\n",
       "  </tbody>\n",
       "</table>\n",
       "<p>5 rows × 60 columns</p>\n",
       "</div>"
      ],
      "text/plain": [
       "            PETR4.SA  VALE3.SA  ITUB4.SA  BBAS3.SA  PETR3.SA  ABEV3.SA  \\\n",
       "2019-06-26  1.012916  0.744374  2.142602  1.861509  0.725531  0.983173   \n",
       "2019-06-27  0.388252  0.751250  1.569247  1.736039  0.011862  0.756806   \n",
       "2019-06-28  0.554583  0.761171  1.418502  1.647363  0.088402  0.202242   \n",
       "2019-07-01  0.266533  1.709629  1.091244  1.406938 -0.119565 -0.096018   \n",
       "2019-07-02 -0.498947  0.242000  0.865073  0.666214 -0.715159  0.858397   \n",
       "\n",
       "            ITSA4.SA  VVAR3.SA  BRFS3.SA  LREN3.SA  ...  ITSA3.SA  ELPL3.SA  \\\n",
       "2019-06-26  2.627019  0.245688  0.561417  0.947592  ...  0.726485  0.463893   \n",
       "2019-06-27  2.048696  0.065840  1.201229  0.990734  ... -1.964970  4.157642   \n",
       "2019-06-28  1.634065  0.757676  1.592685  1.072698  ... -2.059257  2.893629   \n",
       "2019-07-01  1.534560  1.114309  2.996202  0.529488  ... -1.575604  2.324193   \n",
       "2019-07-02  1.016771  2.861342  2.788849  0.644902  ... -1.353750  1.955864   \n",
       "\n",
       "            VIVT3.SA  PMAM3.SA  RPMG3.SA  FJTA4.SA  PNVL3.SA  KEPL3.SA  \\\n",
       "2019-06-26  0.521613  0.859232 -1.163868 -0.293575  0.521186  0.900787   \n",
       "2019-06-27  0.303425  1.043611 -0.453258  0.878108  0.444789  0.868040   \n",
       "2019-06-28 -0.818366  1.314360 -0.036099  1.029559  0.363940  0.762547   \n",
       "2019-07-01 -1.609754  0.938621  2.129854  1.556186  0.309300  0.408321   \n",
       "2019-07-02 -0.045784  0.830600  3.977012  1.257434  0.834001 -0.257141   \n",
       "\n",
       "            SHUL4.SA  RSID3.SA  \n",
       "2019-06-26  1.095281  1.437296  \n",
       "2019-06-27  1.285828  1.044230  \n",
       "2019-06-28  1.605883  1.045704  \n",
       "2019-07-01  1.192457  0.966010  \n",
       "2019-07-02  0.337231  0.753568  \n",
       "\n",
       "[5 rows x 60 columns]"
      ]
     },
     "execution_count": 29,
     "metadata": {},
     "output_type": "execute_result"
    }
   ],
   "source": [
    "painel_transform.tail()"
   ]
  },
  {
   "cell_type": "code",
   "execution_count": 30,
   "metadata": {},
   "outputs": [],
   "source": [
    "painel_transform_cut = painel_transform.loc[:'2009-01-02',:]"
   ]
  },
  {
   "cell_type": "code",
   "execution_count": 31,
   "metadata": {},
   "outputs": [],
   "source": [
    "### Calculate the distance"
   ]
  },
  {
   "cell_type": "code",
   "execution_count": 32,
   "metadata": {},
   "outputs": [],
   "source": [
    "distance = painel_transform_cut.cov()\n",
    "deviation = painel_transform_cut.cov()\n",
    "mean = painel_transform_cut.cov()"
   ]
  },
  {
   "cell_type": "code",
   "execution_count": 33,
   "metadata": {},
   "outputs": [],
   "source": [
    "l = painel_transform_cut.shape[0]\n",
    "for ticker1 in Symbols:\n",
    "    for ticker2 in Symbols:\n",
    "        dist = painel_transform_cut[ticker1] - painel_transform_cut[ticker2]\n",
    "        dist2 = dist**2\n",
    "        distance.loc[ticker1, ticker2] = np.sqrt(dist2.sum())/l\n",
    "        deviation.loc[ticker1, ticker2] = dist2.std()\n",
    "        mean.loc[ticker1, ticker2] = dist2.mean()"
   ]
  },
  {
   "cell_type": "code",
   "execution_count": 34,
   "metadata": {},
   "outputs": [],
   "source": [
    "lista=[]"
   ]
  },
  {
   "cell_type": "code",
   "execution_count": 35,
   "metadata": {},
   "outputs": [],
   "source": [
    "for ticker in Symbols:\n",
    "    df = distance[ticker]\n",
    "    df = df[df>0]\n",
    "    lista.append([ticker, df.argmin(), mean.loc[ticker, df.argmin()],   deviation.loc[ticker, df.argmin()]])"
   ]
  },
  {
   "cell_type": "code",
   "execution_count": 52,
   "metadata": {},
   "outputs": [],
   "source": [
    "pairs = pd.DataFrame(lista)"
   ]
  },
  {
   "cell_type": "code",
   "execution_count": 53,
   "metadata": {},
   "outputs": [
    {
     "data": {
      "text/html": [
       "<div>\n",
       "<style scoped>\n",
       "    .dataframe tbody tr th:only-of-type {\n",
       "        vertical-align: middle;\n",
       "    }\n",
       "\n",
       "    .dataframe tbody tr th {\n",
       "        vertical-align: top;\n",
       "    }\n",
       "\n",
       "    .dataframe thead th {\n",
       "        text-align: right;\n",
       "    }\n",
       "</style>\n",
       "<table border=\"1\" class=\"dataframe\">\n",
       "  <thead>\n",
       "    <tr style=\"text-align: right;\">\n",
       "      <th></th>\n",
       "      <th>0</th>\n",
       "      <th>1</th>\n",
       "      <th>2</th>\n",
       "      <th>3</th>\n",
       "    </tr>\n",
       "  </thead>\n",
       "  <tbody>\n",
       "    <tr>\n",
       "      <th>0</th>\n",
       "      <td>PETR4.SA</td>\n",
       "      <td>PETR3.SA</td>\n",
       "      <td>0.079271</td>\n",
       "      <td>0.266877</td>\n",
       "    </tr>\n",
       "    <tr>\n",
       "      <th>1</th>\n",
       "      <td>VALE3.SA</td>\n",
       "      <td>BRAP4.SA</td>\n",
       "      <td>0.230948</td>\n",
       "      <td>0.445027</td>\n",
       "    </tr>\n",
       "    <tr>\n",
       "      <th>2</th>\n",
       "      <td>ITUB4.SA</td>\n",
       "      <td>ITUB3.SA</td>\n",
       "      <td>0.417984</td>\n",
       "      <td>0.955440</td>\n",
       "    </tr>\n",
       "    <tr>\n",
       "      <th>3</th>\n",
       "      <td>BBAS3.SA</td>\n",
       "      <td>ITUB4.SA</td>\n",
       "      <td>0.960974</td>\n",
       "      <td>1.382933</td>\n",
       "    </tr>\n",
       "    <tr>\n",
       "      <th>4</th>\n",
       "      <td>PETR3.SA</td>\n",
       "      <td>PETR4.SA</td>\n",
       "      <td>0.079271</td>\n",
       "      <td>0.266877</td>\n",
       "    </tr>\n",
       "  </tbody>\n",
       "</table>\n",
       "</div>"
      ],
      "text/plain": [
       "          0         1         2         3\n",
       "0  PETR4.SA  PETR3.SA  0.079271  0.266877\n",
       "1  VALE3.SA  BRAP4.SA  0.230948  0.445027\n",
       "2  ITUB4.SA  ITUB3.SA  0.417984  0.955440\n",
       "3  BBAS3.SA  ITUB4.SA  0.960974  1.382933\n",
       "4  PETR3.SA  PETR4.SA  0.079271  0.266877"
      ]
     },
     "execution_count": 53,
     "metadata": {},
     "output_type": "execute_result"
    }
   ],
   "source": [
    "pairs.head()"
   ]
  },
  {
   "cell_type": "code",
   "execution_count": 54,
   "metadata": {},
   "outputs": [],
   "source": [
    "pairs.columns = ['stock1', 'stock2', 'mean', 'std']"
   ]
  },
  {
   "cell_type": "code",
   "execution_count": 55,
   "metadata": {},
   "outputs": [
    {
     "data": {
      "text/html": [
       "<div>\n",
       "<style scoped>\n",
       "    .dataframe tbody tr th:only-of-type {\n",
       "        vertical-align: middle;\n",
       "    }\n",
       "\n",
       "    .dataframe tbody tr th {\n",
       "        vertical-align: top;\n",
       "    }\n",
       "\n",
       "    .dataframe thead th {\n",
       "        text-align: right;\n",
       "    }\n",
       "</style>\n",
       "<table border=\"1\" class=\"dataframe\">\n",
       "  <thead>\n",
       "    <tr style=\"text-align: right;\">\n",
       "      <th></th>\n",
       "      <th>stock1</th>\n",
       "      <th>stock2</th>\n",
       "      <th>mean</th>\n",
       "      <th>std</th>\n",
       "    </tr>\n",
       "  </thead>\n",
       "  <tbody>\n",
       "    <tr>\n",
       "      <th>0</th>\n",
       "      <td>PETR4.SA</td>\n",
       "      <td>PETR3.SA</td>\n",
       "      <td>0.079271</td>\n",
       "      <td>0.266877</td>\n",
       "    </tr>\n",
       "    <tr>\n",
       "      <th>1</th>\n",
       "      <td>VALE3.SA</td>\n",
       "      <td>BRAP4.SA</td>\n",
       "      <td>0.230948</td>\n",
       "      <td>0.445027</td>\n",
       "    </tr>\n",
       "    <tr>\n",
       "      <th>2</th>\n",
       "      <td>ITUB4.SA</td>\n",
       "      <td>ITUB3.SA</td>\n",
       "      <td>0.417984</td>\n",
       "      <td>0.955440</td>\n",
       "    </tr>\n",
       "    <tr>\n",
       "      <th>3</th>\n",
       "      <td>BBAS3.SA</td>\n",
       "      <td>ITUB4.SA</td>\n",
       "      <td>0.960974</td>\n",
       "      <td>1.382933</td>\n",
       "    </tr>\n",
       "    <tr>\n",
       "      <th>4</th>\n",
       "      <td>PETR3.SA</td>\n",
       "      <td>PETR4.SA</td>\n",
       "      <td>0.079271</td>\n",
       "      <td>0.266877</td>\n",
       "    </tr>\n",
       "  </tbody>\n",
       "</table>\n",
       "</div>"
      ],
      "text/plain": [
       "     stock1    stock2      mean       std\n",
       "0  PETR4.SA  PETR3.SA  0.079271  0.266877\n",
       "1  VALE3.SA  BRAP4.SA  0.230948  0.445027\n",
       "2  ITUB4.SA  ITUB3.SA  0.417984  0.955440\n",
       "3  BBAS3.SA  ITUB4.SA  0.960974  1.382933\n",
       "4  PETR3.SA  PETR4.SA  0.079271  0.266877"
      ]
     },
     "execution_count": 55,
     "metadata": {},
     "output_type": "execute_result"
    }
   ],
   "source": [
    "pairs.head()"
   ]
  },
  {
   "cell_type": "code",
   "execution_count": 56,
   "metadata": {},
   "outputs": [],
   "source": [
    "### testing if the series is stationary\n",
    "\n",
    "p_values=[]\n",
    "for i in pairs.index:\n",
    "    dist_t = (painel_transform_cut[pairs.iloc[i,0]] - painel_transform_cut[pairs.iloc[i,1]])**2\n",
    "    X = dist_t.values\n",
    "    result = adfuller(X)\n",
    "    p_values.append(result[1])"
   ]
  },
  {
   "cell_type": "code",
   "execution_count": 57,
   "metadata": {},
   "outputs": [],
   "source": [
    "pairs['p-value']=p_values"
   ]
  },
  {
   "cell_type": "markdown",
   "metadata": {},
   "source": [
    "### Backtest"
   ]
  },
  {
   "cell_type": "code",
   "execution_count": 58,
   "metadata": {},
   "outputs": [],
   "source": [
    "painel_transform_back = painel_transform.loc['2009-01-02':'2017-12-01',:]"
   ]
  },
  {
   "cell_type": "code",
   "execution_count": 59,
   "metadata": {},
   "outputs": [
    {
     "data": {
      "text/html": [
       "<div>\n",
       "<style scoped>\n",
       "    .dataframe tbody tr th:only-of-type {\n",
       "        vertical-align: middle;\n",
       "    }\n",
       "\n",
       "    .dataframe tbody tr th {\n",
       "        vertical-align: top;\n",
       "    }\n",
       "\n",
       "    .dataframe thead th {\n",
       "        text-align: right;\n",
       "    }\n",
       "</style>\n",
       "<table border=\"1\" class=\"dataframe\">\n",
       "  <thead>\n",
       "    <tr style=\"text-align: right;\">\n",
       "      <th></th>\n",
       "      <th>PETR4.SA</th>\n",
       "      <th>VALE3.SA</th>\n",
       "      <th>ITUB4.SA</th>\n",
       "      <th>BBAS3.SA</th>\n",
       "      <th>PETR3.SA</th>\n",
       "      <th>ABEV3.SA</th>\n",
       "      <th>ITSA4.SA</th>\n",
       "      <th>VVAR3.SA</th>\n",
       "      <th>BRFS3.SA</th>\n",
       "      <th>LREN3.SA</th>\n",
       "      <th>...</th>\n",
       "      <th>ITSA3.SA</th>\n",
       "      <th>ELPL3.SA</th>\n",
       "      <th>VIVT3.SA</th>\n",
       "      <th>PMAM3.SA</th>\n",
       "      <th>RPMG3.SA</th>\n",
       "      <th>FJTA4.SA</th>\n",
       "      <th>PNVL3.SA</th>\n",
       "      <th>KEPL3.SA</th>\n",
       "      <th>SHUL4.SA</th>\n",
       "      <th>RSID3.SA</th>\n",
       "    </tr>\n",
       "  </thead>\n",
       "  <tbody>\n",
       "    <tr>\n",
       "      <th>2009-01-02</th>\n",
       "      <td>1.366750</td>\n",
       "      <td>1.584271</td>\n",
       "      <td>0.458773</td>\n",
       "      <td>-0.199781</td>\n",
       "      <td>1.429734</td>\n",
       "      <td>1.424503</td>\n",
       "      <td>0.163698</td>\n",
       "      <td>-1.918781</td>\n",
       "      <td>-0.920060</td>\n",
       "      <td>1.339365</td>\n",
       "      <td>...</td>\n",
       "      <td>0.095520</td>\n",
       "      <td>-0.917203</td>\n",
       "      <td>-0.484933</td>\n",
       "      <td>2.923993</td>\n",
       "      <td>0.0</td>\n",
       "      <td>-0.560777</td>\n",
       "      <td>1.554695</td>\n",
       "      <td>-0.082671</td>\n",
       "      <td>-0.840990</td>\n",
       "      <td>1.417941</td>\n",
       "    </tr>\n",
       "    <tr>\n",
       "      <th>2009-01-05</th>\n",
       "      <td>1.516518</td>\n",
       "      <td>2.058733</td>\n",
       "      <td>0.435716</td>\n",
       "      <td>0.051871</td>\n",
       "      <td>1.545751</td>\n",
       "      <td>0.465850</td>\n",
       "      <td>0.022534</td>\n",
       "      <td>-0.687682</td>\n",
       "      <td>-0.931800</td>\n",
       "      <td>0.698889</td>\n",
       "      <td>...</td>\n",
       "      <td>-0.496327</td>\n",
       "      <td>0.078620</td>\n",
       "      <td>0.055241</td>\n",
       "      <td>2.271352</td>\n",
       "      <td>0.0</td>\n",
       "      <td>1.490705</td>\n",
       "      <td>1.422618</td>\n",
       "      <td>1.404663</td>\n",
       "      <td>-0.796987</td>\n",
       "      <td>2.527680</td>\n",
       "    </tr>\n",
       "    <tr>\n",
       "      <th>2009-01-06</th>\n",
       "      <td>1.529320</td>\n",
       "      <td>2.089076</td>\n",
       "      <td>1.068850</td>\n",
       "      <td>0.904163</td>\n",
       "      <td>1.568670</td>\n",
       "      <td>0.083306</td>\n",
       "      <td>0.667197</td>\n",
       "      <td>-0.513428</td>\n",
       "      <td>-0.986041</td>\n",
       "      <td>1.068028</td>\n",
       "      <td>...</td>\n",
       "      <td>0.061194</td>\n",
       "      <td>0.071764</td>\n",
       "      <td>-0.688374</td>\n",
       "      <td>2.020148</td>\n",
       "      <td>0.0</td>\n",
       "      <td>0.404798</td>\n",
       "      <td>1.273372</td>\n",
       "      <td>1.299573</td>\n",
       "      <td>-0.606483</td>\n",
       "      <td>2.898951</td>\n",
       "    </tr>\n",
       "    <tr>\n",
       "      <th>2009-01-07</th>\n",
       "      <td>0.955258</td>\n",
       "      <td>1.130561</td>\n",
       "      <td>-0.058785</td>\n",
       "      <td>0.434782</td>\n",
       "      <td>0.877068</td>\n",
       "      <td>-0.125289</td>\n",
       "      <td>-0.455849</td>\n",
       "      <td>-0.375151</td>\n",
       "      <td>-0.847402</td>\n",
       "      <td>0.586096</td>\n",
       "      <td>...</td>\n",
       "      <td>-0.526956</td>\n",
       "      <td>0.064913</td>\n",
       "      <td>-0.706641</td>\n",
       "      <td>1.648507</td>\n",
       "      <td>0.0</td>\n",
       "      <td>0.757985</td>\n",
       "      <td>0.282525</td>\n",
       "      <td>1.174322</td>\n",
       "      <td>1.994105</td>\n",
       "      <td>1.858801</td>\n",
       "    </tr>\n",
       "    <tr>\n",
       "      <th>2009-01-08</th>\n",
       "      <td>1.570302</td>\n",
       "      <td>1.664388</td>\n",
       "      <td>0.005857</td>\n",
       "      <td>0.039984</td>\n",
       "      <td>1.572637</td>\n",
       "      <td>0.038659</td>\n",
       "      <td>-0.205043</td>\n",
       "      <td>-0.198924</td>\n",
       "      <td>-0.048722</td>\n",
       "      <td>1.027563</td>\n",
       "      <td>...</td>\n",
       "      <td>-0.620083</td>\n",
       "      <td>0.058064</td>\n",
       "      <td>-0.686429</td>\n",
       "      <td>1.828665</td>\n",
       "      <td>0.0</td>\n",
       "      <td>1.224461</td>\n",
       "      <td>1.297441</td>\n",
       "      <td>1.107056</td>\n",
       "      <td>1.697682</td>\n",
       "      <td>2.032383</td>\n",
       "    </tr>\n",
       "  </tbody>\n",
       "</table>\n",
       "<p>5 rows × 60 columns</p>\n",
       "</div>"
      ],
      "text/plain": [
       "            PETR4.SA  VALE3.SA  ITUB4.SA  BBAS3.SA  PETR3.SA  ABEV3.SA  \\\n",
       "2009-01-02  1.366750  1.584271  0.458773 -0.199781  1.429734  1.424503   \n",
       "2009-01-05  1.516518  2.058733  0.435716  0.051871  1.545751  0.465850   \n",
       "2009-01-06  1.529320  2.089076  1.068850  0.904163  1.568670  0.083306   \n",
       "2009-01-07  0.955258  1.130561 -0.058785  0.434782  0.877068 -0.125289   \n",
       "2009-01-08  1.570302  1.664388  0.005857  0.039984  1.572637  0.038659   \n",
       "\n",
       "            ITSA4.SA  VVAR3.SA  BRFS3.SA  LREN3.SA  ...  ITSA3.SA  ELPL3.SA  \\\n",
       "2009-01-02  0.163698 -1.918781 -0.920060  1.339365  ...  0.095520 -0.917203   \n",
       "2009-01-05  0.022534 -0.687682 -0.931800  0.698889  ... -0.496327  0.078620   \n",
       "2009-01-06  0.667197 -0.513428 -0.986041  1.068028  ...  0.061194  0.071764   \n",
       "2009-01-07 -0.455849 -0.375151 -0.847402  0.586096  ... -0.526956  0.064913   \n",
       "2009-01-08 -0.205043 -0.198924 -0.048722  1.027563  ... -0.620083  0.058064   \n",
       "\n",
       "            VIVT3.SA  PMAM3.SA  RPMG3.SA  FJTA4.SA  PNVL3.SA  KEPL3.SA  \\\n",
       "2009-01-02 -0.484933  2.923993       0.0 -0.560777  1.554695 -0.082671   \n",
       "2009-01-05  0.055241  2.271352       0.0  1.490705  1.422618  1.404663   \n",
       "2009-01-06 -0.688374  2.020148       0.0  0.404798  1.273372  1.299573   \n",
       "2009-01-07 -0.706641  1.648507       0.0  0.757985  0.282525  1.174322   \n",
       "2009-01-08 -0.686429  1.828665       0.0  1.224461  1.297441  1.107056   \n",
       "\n",
       "            SHUL4.SA  RSID3.SA  \n",
       "2009-01-02 -0.840990  1.417941  \n",
       "2009-01-05 -0.796987  2.527680  \n",
       "2009-01-06 -0.606483  2.898951  \n",
       "2009-01-07  1.994105  1.858801  \n",
       "2009-01-08  1.697682  2.032383  \n",
       "\n",
       "[5 rows x 60 columns]"
      ]
     },
     "execution_count": 59,
     "metadata": {},
     "output_type": "execute_result"
    }
   ],
   "source": [
    "painel_transform_back.head()"
   ]
  },
  {
   "cell_type": "code",
   "execution_count": 60,
   "metadata": {},
   "outputs": [],
   "source": [
    "painel_close_back = painel_close.loc['2009-01-02':'2017-12-01',:]"
   ]
  },
  {
   "cell_type": "code",
   "execution_count": 61,
   "metadata": {},
   "outputs": [
    {
     "data": {
      "text/html": [
       "<div>\n",
       "<style scoped>\n",
       "    .dataframe tbody tr th:only-of-type {\n",
       "        vertical-align: middle;\n",
       "    }\n",
       "\n",
       "    .dataframe tbody tr th {\n",
       "        vertical-align: top;\n",
       "    }\n",
       "\n",
       "    .dataframe thead th {\n",
       "        text-align: right;\n",
       "    }\n",
       "</style>\n",
       "<table border=\"1\" class=\"dataframe\">\n",
       "  <thead>\n",
       "    <tr style=\"text-align: right;\">\n",
       "      <th></th>\n",
       "      <th>PETR4.SA</th>\n",
       "      <th>VALE3.SA</th>\n",
       "      <th>ITUB4.SA</th>\n",
       "      <th>BBAS3.SA</th>\n",
       "      <th>PETR3.SA</th>\n",
       "      <th>ABEV3.SA</th>\n",
       "      <th>ITSA4.SA</th>\n",
       "      <th>VVAR3.SA</th>\n",
       "      <th>BRFS3.SA</th>\n",
       "      <th>LREN3.SA</th>\n",
       "      <th>...</th>\n",
       "      <th>ITSA3.SA</th>\n",
       "      <th>ELPL3.SA</th>\n",
       "      <th>VIVT3.SA</th>\n",
       "      <th>PMAM3.SA</th>\n",
       "      <th>RPMG3.SA</th>\n",
       "      <th>FJTA4.SA</th>\n",
       "      <th>PNVL3.SA</th>\n",
       "      <th>KEPL3.SA</th>\n",
       "      <th>SHUL4.SA</th>\n",
       "      <th>RSID3.SA</th>\n",
       "    </tr>\n",
       "  </thead>\n",
       "  <tbody>\n",
       "    <tr>\n",
       "      <th>2017-11-27</th>\n",
       "      <td>15.87</td>\n",
       "      <td>35.410000</td>\n",
       "      <td>28.459999</td>\n",
       "      <td>32.160000</td>\n",
       "      <td>16.320000</td>\n",
       "      <td>20.740000</td>\n",
       "      <td>9.80909</td>\n",
       "      <td>7.77</td>\n",
       "      <td>39.799999</td>\n",
       "      <td>31.209101</td>\n",
       "      <td>...</td>\n",
       "      <td>9.22560</td>\n",
       "      <td>16.100000</td>\n",
       "      <td>39.660000</td>\n",
       "      <td>25.16</td>\n",
       "      <td>9.36</td>\n",
       "      <td>2.11</td>\n",
       "      <td>480.00000</td>\n",
       "      <td>20.400000</td>\n",
       "      <td>4.87143</td>\n",
       "      <td>6.51</td>\n",
       "    </tr>\n",
       "    <tr>\n",
       "      <th>2017-11-28</th>\n",
       "      <td>15.84</td>\n",
       "      <td>36.250000</td>\n",
       "      <td>28.506701</td>\n",
       "      <td>32.639999</td>\n",
       "      <td>16.280001</td>\n",
       "      <td>20.780001</td>\n",
       "      <td>9.77273</td>\n",
       "      <td>7.60</td>\n",
       "      <td>40.040001</td>\n",
       "      <td>31.790899</td>\n",
       "      <td>...</td>\n",
       "      <td>9.24358</td>\n",
       "      <td>15.990000</td>\n",
       "      <td>40.070000</td>\n",
       "      <td>25.16</td>\n",
       "      <td>9.45</td>\n",
       "      <td>2.20</td>\n",
       "      <td>480.00000</td>\n",
       "      <td>20.280001</td>\n",
       "      <td>4.82143</td>\n",
       "      <td>6.49</td>\n",
       "    </tr>\n",
       "    <tr>\n",
       "      <th>2017-11-29</th>\n",
       "      <td>15.33</td>\n",
       "      <td>35.700001</td>\n",
       "      <td>27.920000</td>\n",
       "      <td>31.160000</td>\n",
       "      <td>15.910000</td>\n",
       "      <td>20.559999</td>\n",
       "      <td>9.53636</td>\n",
       "      <td>7.55</td>\n",
       "      <td>39.290001</td>\n",
       "      <td>31.090900</td>\n",
       "      <td>...</td>\n",
       "      <td>9.07274</td>\n",
       "      <td>15.860000</td>\n",
       "      <td>39.459999</td>\n",
       "      <td>25.33</td>\n",
       "      <td>9.37</td>\n",
       "      <td>2.36</td>\n",
       "      <td>480.00000</td>\n",
       "      <td>19.000000</td>\n",
       "      <td>4.79286</td>\n",
       "      <td>6.50</td>\n",
       "    </tr>\n",
       "    <tr>\n",
       "      <th>2017-11-30</th>\n",
       "      <td>15.38</td>\n",
       "      <td>35.139999</td>\n",
       "      <td>27.513300</td>\n",
       "      <td>29.930000</td>\n",
       "      <td>15.950000</td>\n",
       "      <td>20.559999</td>\n",
       "      <td>9.43636</td>\n",
       "      <td>7.36</td>\n",
       "      <td>38.480000</td>\n",
       "      <td>30.845400</td>\n",
       "      <td>...</td>\n",
       "      <td>8.94685</td>\n",
       "      <td>16.000000</td>\n",
       "      <td>38.939999</td>\n",
       "      <td>25.16</td>\n",
       "      <td>9.37</td>\n",
       "      <td>2.23</td>\n",
       "      <td>454.98999</td>\n",
       "      <td>18.260000</td>\n",
       "      <td>4.71429</td>\n",
       "      <td>6.30</td>\n",
       "    </tr>\n",
       "    <tr>\n",
       "      <th>2017-12-01</th>\n",
       "      <td>15.61</td>\n",
       "      <td>35.480000</td>\n",
       "      <td>27.486700</td>\n",
       "      <td>30.780001</td>\n",
       "      <td>16.110001</td>\n",
       "      <td>20.450001</td>\n",
       "      <td>9.50909</td>\n",
       "      <td>7.45</td>\n",
       "      <td>38.500000</td>\n",
       "      <td>30.945400</td>\n",
       "      <td>...</td>\n",
       "      <td>9.07274</td>\n",
       "      <td>16.049999</td>\n",
       "      <td>39.919998</td>\n",
       "      <td>25.16</td>\n",
       "      <td>9.37</td>\n",
       "      <td>2.30</td>\n",
       "      <td>468.00000</td>\n",
       "      <td>18.500000</td>\n",
       "      <td>4.57143</td>\n",
       "      <td>6.35</td>\n",
       "    </tr>\n",
       "  </tbody>\n",
       "</table>\n",
       "<p>5 rows × 60 columns</p>\n",
       "</div>"
      ],
      "text/plain": [
       "            PETR4.SA   VALE3.SA   ITUB4.SA   BBAS3.SA   PETR3.SA   ABEV3.SA  \\\n",
       "2017-11-27     15.87  35.410000  28.459999  32.160000  16.320000  20.740000   \n",
       "2017-11-28     15.84  36.250000  28.506701  32.639999  16.280001  20.780001   \n",
       "2017-11-29     15.33  35.700001  27.920000  31.160000  15.910000  20.559999   \n",
       "2017-11-30     15.38  35.139999  27.513300  29.930000  15.950000  20.559999   \n",
       "2017-12-01     15.61  35.480000  27.486700  30.780001  16.110001  20.450001   \n",
       "\n",
       "            ITSA4.SA  VVAR3.SA   BRFS3.SA   LREN3.SA  ...  ITSA3.SA  \\\n",
       "2017-11-27   9.80909      7.77  39.799999  31.209101  ...   9.22560   \n",
       "2017-11-28   9.77273      7.60  40.040001  31.790899  ...   9.24358   \n",
       "2017-11-29   9.53636      7.55  39.290001  31.090900  ...   9.07274   \n",
       "2017-11-30   9.43636      7.36  38.480000  30.845400  ...   8.94685   \n",
       "2017-12-01   9.50909      7.45  38.500000  30.945400  ...   9.07274   \n",
       "\n",
       "             ELPL3.SA   VIVT3.SA  PMAM3.SA  RPMG3.SA  FJTA4.SA   PNVL3.SA  \\\n",
       "2017-11-27  16.100000  39.660000     25.16      9.36      2.11  480.00000   \n",
       "2017-11-28  15.990000  40.070000     25.16      9.45      2.20  480.00000   \n",
       "2017-11-29  15.860000  39.459999     25.33      9.37      2.36  480.00000   \n",
       "2017-11-30  16.000000  38.939999     25.16      9.37      2.23  454.98999   \n",
       "2017-12-01  16.049999  39.919998     25.16      9.37      2.30  468.00000   \n",
       "\n",
       "             KEPL3.SA  SHUL4.SA  RSID3.SA  \n",
       "2017-11-27  20.400000   4.87143      6.51  \n",
       "2017-11-28  20.280001   4.82143      6.49  \n",
       "2017-11-29  19.000000   4.79286      6.50  \n",
       "2017-11-30  18.260000   4.71429      6.30  \n",
       "2017-12-01  18.500000   4.57143      6.35  \n",
       "\n",
       "[5 rows x 60 columns]"
      ]
     },
     "execution_count": 61,
     "metadata": {},
     "output_type": "execute_result"
    }
   ],
   "source": [
    "painel_close_back.tail()"
   ]
  },
  {
   "cell_type": "code",
   "execution_count": 62,
   "metadata": {},
   "outputs": [],
   "source": [
    "pairs['position1'] = np.zeros(pairs.shape[0])\n",
    "pairs['position2'] = np.zeros(pairs.shape[0])\n",
    "pairs['notional'] =  np.zeros(pairs.shape[0])\n",
    "pairs['price1'] =  np.zeros(pairs.shape[0])\n",
    "pairs['price2'] =  np.zeros(pairs.shape[0])"
   ]
  },
  {
   "cell_type": "code",
   "execution_count": 84,
   "metadata": {},
   "outputs": [],
   "source": [
    "backtest_data = pd.DataFrame(index=painel_close_back.index)"
   ]
  },
  {
   "cell_type": "code",
   "execution_count": 86,
   "metadata": {},
   "outputs": [],
   "source": [
    "n = len(painel_close_back.index)"
   ]
  },
  {
   "cell_type": "code",
   "execution_count": 87,
   "metadata": {},
   "outputs": [],
   "source": [
    "for i in pairs.index:\n",
    "    strat = pairs.iloc[i,0] + '-' + pairs.iloc[i,1]\n",
    "    backtest_data[strat] = np.zeros(n)"
   ]
  },
  {
   "cell_type": "code",
   "execution_count": 63,
   "metadata": {},
   "outputs": [
    {
     "data": {
      "text/html": [
       "<div>\n",
       "<style scoped>\n",
       "    .dataframe tbody tr th:only-of-type {\n",
       "        vertical-align: middle;\n",
       "    }\n",
       "\n",
       "    .dataframe tbody tr th {\n",
       "        vertical-align: top;\n",
       "    }\n",
       "\n",
       "    .dataframe thead th {\n",
       "        text-align: right;\n",
       "    }\n",
       "</style>\n",
       "<table border=\"1\" class=\"dataframe\">\n",
       "  <thead>\n",
       "    <tr style=\"text-align: right;\">\n",
       "      <th></th>\n",
       "      <th>stock1</th>\n",
       "      <th>stock2</th>\n",
       "      <th>mean</th>\n",
       "      <th>std</th>\n",
       "      <th>p-value</th>\n",
       "      <th>position1</th>\n",
       "      <th>position2</th>\n",
       "      <th>notional</th>\n",
       "    </tr>\n",
       "  </thead>\n",
       "  <tbody>\n",
       "    <tr>\n",
       "      <th>0</th>\n",
       "      <td>PETR4.SA</td>\n",
       "      <td>PETR3.SA</td>\n",
       "      <td>0.079271</td>\n",
       "      <td>0.266877</td>\n",
       "      <td>8.057474e-16</td>\n",
       "      <td>0.0</td>\n",
       "      <td>0.0</td>\n",
       "      <td>0.0</td>\n",
       "    </tr>\n",
       "    <tr>\n",
       "      <th>1</th>\n",
       "      <td>VALE3.SA</td>\n",
       "      <td>BRAP4.SA</td>\n",
       "      <td>0.230948</td>\n",
       "      <td>0.445027</td>\n",
       "      <td>1.052840e-02</td>\n",
       "      <td>0.0</td>\n",
       "      <td>0.0</td>\n",
       "      <td>0.0</td>\n",
       "    </tr>\n",
       "    <tr>\n",
       "      <th>2</th>\n",
       "      <td>ITUB4.SA</td>\n",
       "      <td>ITUB3.SA</td>\n",
       "      <td>0.417984</td>\n",
       "      <td>0.955440</td>\n",
       "      <td>1.382085e-05</td>\n",
       "      <td>0.0</td>\n",
       "      <td>0.0</td>\n",
       "      <td>0.0</td>\n",
       "    </tr>\n",
       "    <tr>\n",
       "      <th>3</th>\n",
       "      <td>BBAS3.SA</td>\n",
       "      <td>ITUB4.SA</td>\n",
       "      <td>0.960974</td>\n",
       "      <td>1.382933</td>\n",
       "      <td>1.178907e-19</td>\n",
       "      <td>0.0</td>\n",
       "      <td>0.0</td>\n",
       "      <td>0.0</td>\n",
       "    </tr>\n",
       "    <tr>\n",
       "      <th>4</th>\n",
       "      <td>PETR3.SA</td>\n",
       "      <td>PETR4.SA</td>\n",
       "      <td>0.079271</td>\n",
       "      <td>0.266877</td>\n",
       "      <td>8.057474e-16</td>\n",
       "      <td>0.0</td>\n",
       "      <td>0.0</td>\n",
       "      <td>0.0</td>\n",
       "    </tr>\n",
       "  </tbody>\n",
       "</table>\n",
       "</div>"
      ],
      "text/plain": [
       "     stock1    stock2      mean       std       p-value  position1  position2  \\\n",
       "0  PETR4.SA  PETR3.SA  0.079271  0.266877  8.057474e-16        0.0        0.0   \n",
       "1  VALE3.SA  BRAP4.SA  0.230948  0.445027  1.052840e-02        0.0        0.0   \n",
       "2  ITUB4.SA  ITUB3.SA  0.417984  0.955440  1.382085e-05        0.0        0.0   \n",
       "3  BBAS3.SA  ITUB4.SA  0.960974  1.382933  1.178907e-19        0.0        0.0   \n",
       "4  PETR3.SA  PETR4.SA  0.079271  0.266877  8.057474e-16        0.0        0.0   \n",
       "\n",
       "   notional  \n",
       "0       0.0  \n",
       "1       0.0  \n",
       "2       0.0  \n",
       "3       0.0  \n",
       "4       0.0  "
      ]
     },
     "execution_count": 63,
     "metadata": {},
     "output_type": "execute_result"
    }
   ],
   "source": [
    "pairs.head()"
   ]
  },
  {
   "cell_type": "code",
   "execution_count": 82,
   "metadata": {},
   "outputs": [],
   "source": [
    "for day in painel_close_back.index:\n",
    "    for j in pairs.index:\n",
    "        price1 = painel_close_back.loc[day, pairs.iloc[j,0]]\n",
    "        price2 = painel_close_back.loc[day, pairs.iloc[j,1]]\n",
    "       \n",
    "        dist = abs((price1-price2)**2 - pairs.iloc[j,2])>2*pairs.iloc[j,3]\n",
    "        \n",
    "        if (pairs.iloc[j, 5]==0) & (dist):\n",
    "            pairs.iloc[j,8] = price1\n",
    "            pairs.iloc[j,9] = price2\n",
    "            if price1>price2:\n",
    "                pairs.iloc[j,5] = -1\n",
    "                pairs.iloc[j,6] =  1\n",
    "                \n",
    "                pairs.iloc[j,7] = pairs.iloc[j,7] + price1 - price2\n",
    "                \n",
    "            else:\n",
    "                pairs.iloc[j,5] =  1\n",
    "                pairs.iloc[j,6] =  -1\n",
    "                                             \n",
    "                pairs.iloc[j,7] = pairs.iloc[j,7] - price1 + price2\n",
    "                \n",
    "        if (pairs.iloc[j, 5]!=0) & (not dist):  \n",
    "            \n",
    "                pairs.iloc[j,7] = pairs.iloc[j,7] + pairs.iloc[j,5]* price1 + pairs.iloc[j,6]*price2\n",
    "                pairs.iloc[j,5] = 0\n",
    "                pairs.iloc[j,6] = 0\n",
    "            \n",
    "            \n",
    "        \n",
    "        \n",
    "        \n",
    "        \n"
   ]
  },
  {
   "cell_type": "code",
   "execution_count": 83,
   "metadata": {},
   "outputs": [
    {
     "data": {
      "text/html": [
       "<div>\n",
       "<style scoped>\n",
       "    .dataframe tbody tr th:only-of-type {\n",
       "        vertical-align: middle;\n",
       "    }\n",
       "\n",
       "    .dataframe tbody tr th {\n",
       "        vertical-align: top;\n",
       "    }\n",
       "\n",
       "    .dataframe thead th {\n",
       "        text-align: right;\n",
       "    }\n",
       "</style>\n",
       "<table border=\"1\" class=\"dataframe\">\n",
       "  <thead>\n",
       "    <tr style=\"text-align: right;\">\n",
       "      <th></th>\n",
       "      <th>stock1</th>\n",
       "      <th>stock2</th>\n",
       "      <th>mean</th>\n",
       "      <th>std</th>\n",
       "      <th>p-value</th>\n",
       "      <th>position1</th>\n",
       "      <th>position2</th>\n",
       "      <th>notional</th>\n",
       "    </tr>\n",
       "  </thead>\n",
       "  <tbody>\n",
       "    <tr>\n",
       "      <th>0</th>\n",
       "      <td>PETR4.SA</td>\n",
       "      <td>PETR3.SA</td>\n",
       "      <td>0.079271</td>\n",
       "      <td>0.266877</td>\n",
       "      <td>8.057474e-16</td>\n",
       "      <td>0.0</td>\n",
       "      <td>0.0</td>\n",
       "      <td>14.940001</td>\n",
       "    </tr>\n",
       "    <tr>\n",
       "      <th>1</th>\n",
       "      <td>VALE3.SA</td>\n",
       "      <td>BRAP4.SA</td>\n",
       "      <td>0.230948</td>\n",
       "      <td>0.445027</td>\n",
       "      <td>1.052840e-02</td>\n",
       "      <td>-1.0</td>\n",
       "      <td>1.0</td>\n",
       "      <td>9.700001</td>\n",
       "    </tr>\n",
       "    <tr>\n",
       "      <th>2</th>\n",
       "      <td>ITUB4.SA</td>\n",
       "      <td>ITUB3.SA</td>\n",
       "      <td>0.417984</td>\n",
       "      <td>0.955440</td>\n",
       "      <td>1.382085e-05</td>\n",
       "      <td>-1.0</td>\n",
       "      <td>1.0</td>\n",
       "      <td>13.133583</td>\n",
       "    </tr>\n",
       "    <tr>\n",
       "      <th>3</th>\n",
       "      <td>BBAS3.SA</td>\n",
       "      <td>ITUB4.SA</td>\n",
       "      <td>0.960974</td>\n",
       "      <td>1.382933</td>\n",
       "      <td>1.178907e-19</td>\n",
       "      <td>-1.0</td>\n",
       "      <td>1.0</td>\n",
       "      <td>13.054106</td>\n",
       "    </tr>\n",
       "    <tr>\n",
       "      <th>4</th>\n",
       "      <td>PETR3.SA</td>\n",
       "      <td>PETR4.SA</td>\n",
       "      <td>0.079271</td>\n",
       "      <td>0.266877</td>\n",
       "      <td>8.057474e-16</td>\n",
       "      <td>0.0</td>\n",
       "      <td>0.0</td>\n",
       "      <td>14.940001</td>\n",
       "    </tr>\n",
       "  </tbody>\n",
       "</table>\n",
       "</div>"
      ],
      "text/plain": [
       "     stock1    stock2      mean       std       p-value  position1  position2  \\\n",
       "0  PETR4.SA  PETR3.SA  0.079271  0.266877  8.057474e-16        0.0        0.0   \n",
       "1  VALE3.SA  BRAP4.SA  0.230948  0.445027  1.052840e-02       -1.0        1.0   \n",
       "2  ITUB4.SA  ITUB3.SA  0.417984  0.955440  1.382085e-05       -1.0        1.0   \n",
       "3  BBAS3.SA  ITUB4.SA  0.960974  1.382933  1.178907e-19       -1.0        1.0   \n",
       "4  PETR3.SA  PETR4.SA  0.079271  0.266877  8.057474e-16        0.0        0.0   \n",
       "\n",
       "    notional  \n",
       "0  14.940001  \n",
       "1   9.700001  \n",
       "2  13.133583  \n",
       "3  13.054106  \n",
       "4  14.940001  "
      ]
     },
     "execution_count": 83,
     "metadata": {},
     "output_type": "execute_result"
    }
   ],
   "source": [
    "pairs.head()"
   ]
  },
  {
   "cell_type": "code",
   "execution_count": null,
   "metadata": {},
   "outputs": [],
   "source": []
  },
  {
   "cell_type": "code",
   "execution_count": 76,
   "metadata": {},
   "outputs": [
    {
     "data": {
      "text/plain": [
       "False"
      ]
     },
     "execution_count": 76,
     "metadata": {},
     "output_type": "execute_result"
    }
   ],
   "source": [
    "pairs.iloc[2, 5]!=0"
   ]
  },
  {
   "cell_type": "code",
   "execution_count": 75,
   "metadata": {},
   "outputs": [
    {
     "data": {
      "text/plain": [
       "False"
      ]
     },
     "execution_count": 75,
     "metadata": {},
     "output_type": "execute_result"
    }
   ],
   "source": [
    "a !=0"
   ]
  },
  {
   "cell_type": "code",
   "execution_count": null,
   "metadata": {},
   "outputs": [],
   "source": []
  },
  {
   "cell_type": "code",
   "execution_count": null,
   "metadata": {},
   "outputs": [],
   "source": []
  },
  {
   "cell_type": "code",
   "execution_count": null,
   "metadata": {},
   "outputs": [],
   "source": []
  },
  {
   "cell_type": "code",
   "execution_count": null,
   "metadata": {},
   "outputs": [],
   "source": []
  },
  {
   "cell_type": "code",
   "execution_count": null,
   "metadata": {},
   "outputs": [],
   "source": []
  },
  {
   "cell_type": "code",
   "execution_count": null,
   "metadata": {},
   "outputs": [],
   "source": []
  },
  {
   "cell_type": "code",
   "execution_count": null,
   "metadata": {},
   "outputs": [],
   "source": [
    "pairs.iloc[0,0]"
   ]
  },
  {
   "cell_type": "code",
   "execution_count": null,
   "metadata": {},
   "outputs": [],
   "source": []
  },
  {
   "cell_type": "code",
   "execution_count": null,
   "metadata": {},
   "outputs": [],
   "source": [
    "ticker1 = 'PETR4.SA'\n",
    "ticker2 = 'PETR3.SA'"
   ]
  },
  {
   "cell_type": "code",
   "execution_count": null,
   "metadata": {},
   "outputs": [],
   "source": [
    "dist_t = (painel_transform_cut[ticker1] - painel_transform_cut[ticker2])**2"
   ]
  },
  {
   "cell_type": "code",
   "execution_count": null,
   "metadata": {},
   "outputs": [],
   "source": [
    "from statsmodels.tsa.stattools import adfuller"
   ]
  },
  {
   "cell_type": "code",
   "execution_count": null,
   "metadata": {},
   "outputs": [],
   "source": [
    "X = dist_t.values\n",
    "result = adfuller(X)\n",
    "print('ADF Statistic: %f' % result[0])\n",
    "print('p-value: %f' % result[1])\n",
    "print('Critical Values:')\n",
    "for key, value in result[4].items():\n",
    "\tprint('\\t%s: %.3f' % (key, value))"
   ]
  },
  {
   "cell_type": "code",
   "execution_count": null,
   "metadata": {},
   "outputs": [],
   "source": []
  },
  {
   "cell_type": "code",
   "execution_count": null,
   "metadata": {},
   "outputs": [],
   "source": [
    "def get_pair(distance, ticker):\n",
    "    df = distance[ticker]\n",
    "    df = df[df>0]\n",
    "    return df.argmin()"
   ]
  },
  {
   "cell_type": "code",
   "execution_count": null,
   "metadata": {},
   "outputs": [],
   "source": []
  },
  {
   "cell_type": "code",
   "execution_count": null,
   "metadata": {},
   "outputs": [],
   "source": [
    "get_pair(distance, ticker)"
   ]
  },
  {
   "cell_type": "code",
   "execution_count": null,
   "metadata": {},
   "outputs": [],
   "source": [
    "ticker='PETR4.SA'"
   ]
  },
  {
   "cell_type": "code",
   "execution_count": null,
   "metadata": {},
   "outputs": [],
   "source": [
    "df = distance[ticker]\n",
    "df = df[df>0]"
   ]
  },
  {
   "cell_type": "code",
   "execution_count": null,
   "metadata": {},
   "outputs": [],
   "source": [
    "df.argmin()"
   ]
  },
  {
   "cell_type": "code",
   "execution_count": null,
   "metadata": {},
   "outputs": [],
   "source": []
  },
  {
   "cell_type": "code",
   "execution_count": null,
   "metadata": {},
   "outputs": [],
   "source": []
  },
  {
   "cell_type": "code",
   "execution_count": null,
   "metadata": {},
   "outputs": [],
   "source": []
  },
  {
   "cell_type": "code",
   "execution_count": null,
   "metadata": {},
   "outputs": [],
   "source": [
    "df = painel_cut['PETR4.SA']\n"
   ]
  },
  {
   "cell_type": "code",
   "execution_count": null,
   "metadata": {},
   "outputs": [],
   "source": [
    "average = df.rolling(window=20).std()"
   ]
  },
  {
   "cell_type": "code",
   "execution_count": null,
   "metadata": {},
   "outputs": [],
   "source": [
    "average"
   ]
  },
  {
   "cell_type": "code",
   "execution_count": null,
   "metadata": {},
   "outputs": [],
   "source": []
  },
  {
   "cell_type": "code",
   "execution_count": null,
   "metadata": {},
   "outputs": [],
   "source": [
    "averageexp=base['Close'].ewm(span=17, adjust=False).mean()"
   ]
  },
  {
   "cell_type": "code",
   "execution_count": null,
   "metadata": {},
   "outputs": [],
   "source": [
    "painel_cut = painel[painel['Date']<'2009-07-01']"
   ]
  },
  {
   "cell_type": "code",
   "execution_count": null,
   "metadata": {},
   "outputs": [],
   "source": []
  },
  {
   "cell_type": "code",
   "execution_count": null,
   "metadata": {},
   "outputs": [],
   "source": []
  },
  {
   "cell_type": "code",
   "execution_count": null,
   "metadata": {},
   "outputs": [],
   "source": []
  },
  {
   "cell_type": "code",
   "execution_count": null,
   "metadata": {},
   "outputs": [],
   "source": []
  },
  {
   "cell_type": "code",
   "execution_count": null,
   "metadata": {},
   "outputs": [],
   "source": [
    "start_date = '2000-01-01'\n",
    "end_date = '2019-05-01'"
   ]
  },
  {
   "cell_type": "code",
   "execution_count": null,
   "metadata": {},
   "outputs": [],
   "source": [
    "ibov = data.DataReader('^BVSP', 'yahoo', start_date, end_date)"
   ]
  },
  {
   "cell_type": "code",
   "execution_count": null,
   "metadata": {},
   "outputs": [],
   "source": [
    "ibov=ibov.reset_index"
   ]
  },
  {
   "cell_type": "code",
   "execution_count": null,
   "metadata": {},
   "outputs": [],
   "source": [
    "ibov.head()"
   ]
  },
  {
   "cell_type": "code",
   "execution_count": null,
   "metadata": {},
   "outputs": [],
   "source": [
    "ibov.reset_index"
   ]
  },
  {
   "cell_type": "code",
   "execution_count": null,
   "metadata": {},
   "outputs": [],
   "source": [
    "dax = data.DataReader('^GDAXI', 'yahoo', start_date, end_date)"
   ]
  },
  {
   "cell_type": "code",
   "execution_count": null,
   "metadata": {},
   "outputs": [],
   "source": [
    "nikkey = data.DataReader('^N225', 'yahoo', start_date, end_date)"
   ]
  },
  {
   "cell_type": "code",
   "execution_count": null,
   "metadata": {},
   "outputs": [],
   "source": [
    "dji = data.DataReader('^DJI', 'yahoo', start_date, end_date)"
   ]
  },
  {
   "cell_type": "code",
   "execution_count": null,
   "metadata": {},
   "outputs": [],
   "source": [
    "sp500=data.DataReader('^GSPC', 'yahoo', start_date, end_date)"
   ]
  },
  {
   "cell_type": "code",
   "execution_count": null,
   "metadata": {},
   "outputs": [],
   "source": [
    "hsi = data.DataReader('^HSI', 'yahoo', start_date, end_date)"
   ]
  },
  {
   "cell_type": "code",
   "execution_count": null,
   "metadata": {},
   "outputs": [],
   "source": [
    "# Função para calcular a variação diaria da abertura até o fechamento.\n",
    "def var(x):\n",
    "    x['var'] = x['Close'] - x['Open']\n",
    "    return x"
   ]
  },
  {
   "cell_type": "code",
   "execution_count": null,
   "metadata": {},
   "outputs": [],
   "source": [
    "dax = var(dax)\n",
    "dji = var(dji)\n",
    "sp500 = var(sp500)\n",
    "nikkey = var(nikkey)\n",
    "hsi = var(hsi)\n",
    "ibov = var(ibov)"
   ]
  },
  {
   "cell_type": "markdown",
   "metadata": {},
   "source": [
    "Transformando o target em 1 se a variação é positiva e -1 caso contrario"
   ]
  },
  {
   "cell_type": "code",
   "execution_count": null,
   "metadata": {},
   "outputs": [],
   "source": [
    "ibov['signal'] = np.where(ibov['var']>0,1,0)"
   ]
  },
  {
   "cell_type": "code",
   "execution_count": null,
   "metadata": {},
   "outputs": [],
   "source": [
    "dax_var_shift = dax['var'].shift(+1)\n",
    "dji_var_shift = dji['var'].shift(+1)\n",
    "sp500_var_shift = sp500['var'].shift(+1)\n",
    "ibov_var_shift = ibov['var'].shift(+1)\n",
    "nikkey_var = nikkey['var']\n",
    "hsi_var = hsi['var']"
   ]
  },
  {
   "cell_type": "code",
   "execution_count": null,
   "metadata": {},
   "outputs": [],
   "source": [
    "dax_var_shift.name = 'var_dax_shift'\n",
    "dji_var_shift.name = 'var_dji_shift'\n",
    "sp500_var_shift.name = 'var_sp500_shift'\n",
    "nikkey_var.name = 'var_nikkey'\n",
    "hsi_var.name = 'var_hsi'\n",
    "ibov_var_shift.name = 'var_ibov_shift'"
   ]
  },
  {
   "cell_type": "code",
   "execution_count": null,
   "metadata": {},
   "outputs": [],
   "source": [
    "df = ibov.join([dax_var_shift,ibov_var_shift,dji_var_shift,sp500_var_shift,nikkey_var,hsi_var])"
   ]
  },
  {
   "cell_type": "code",
   "execution_count": null,
   "metadata": {},
   "outputs": [],
   "source": [
    "# Drop nas linhas com NA's\n",
    "df=df.dropna()"
   ]
  },
  {
   "cell_type": "code",
   "execution_count": null,
   "metadata": {},
   "outputs": [],
   "source": [
    "df.columns"
   ]
  },
  {
   "cell_type": "code",
   "execution_count": null,
   "metadata": {},
   "outputs": [],
   "source": [
    "df_f = df[['Open', 'Close','signal', 'var_dax_shift','var_ibov_shift', 'var_dji_shift', 'var_sp500_shift',\n",
    "       'var_nikkey', 'var_hsi', 'var']]"
   ]
  },
  {
   "cell_type": "code",
   "execution_count": null,
   "metadata": {},
   "outputs": [],
   "source": [
    "df_f.columns"
   ]
  },
  {
   "cell_type": "code",
   "execution_count": null,
   "metadata": {},
   "outputs": [],
   "source": [
    "df_f.columns = ['Open', 'Close','signal', 'dax', 'ibov_s', 'dji', 'sp500', 'nikkey', 'hsi', 'var']"
   ]
  },
  {
   "cell_type": "code",
   "execution_count": null,
   "metadata": {},
   "outputs": [],
   "source": [
    "df_f.shape"
   ]
  },
  {
   "cell_type": "markdown",
   "metadata": {},
   "source": [
    "### Divisião da base - Parte da base para modelagem e testes e outra parte para Backtest"
   ]
  },
  {
   "cell_type": "code",
   "execution_count": null,
   "metadata": {},
   "outputs": [],
   "source": [
    "backtest = df_f[df_f.index>'2018-01-01']"
   ]
  },
  {
   "cell_type": "code",
   "execution_count": null,
   "metadata": {},
   "outputs": [],
   "source": [
    "df_f = df_f[df_f.index<'2018-01-01']\n",
    "df_f = df_f[['signal', 'dax', 'ibov_s', 'dji', 'sp500', 'nikkey', 'hsi']]"
   ]
  },
  {
   "cell_type": "markdown",
   "metadata": {},
   "source": [
    "### Dividindo a base de dados em treino e teste"
   ]
  },
  {
   "cell_type": "code",
   "execution_count": null,
   "metadata": {},
   "outputs": [],
   "source": [
    "size=df_f.shape[0]"
   ]
  },
  {
   "cell_type": "code",
   "execution_count": null,
   "metadata": {},
   "outputs": [],
   "source": [
    "selecao_train = np.random.choice(size, int(0.7*size), replace=False)"
   ]
  },
  {
   "cell_type": "code",
   "execution_count": null,
   "metadata": {},
   "outputs": [],
   "source": [
    "selecao_test = np.setdiff1d(np.arange(size), selecao_train)"
   ]
  },
  {
   "cell_type": "code",
   "execution_count": null,
   "metadata": {},
   "outputs": [],
   "source": [
    "df_train = df_f.iloc[selecao_train]\n",
    "df_test = df_f.iloc[selecao_test]"
   ]
  },
  {
   "cell_type": "markdown",
   "metadata": {},
   "source": [
    "### Normalização"
   ]
  },
  {
   "cell_type": "code",
   "execution_count": null,
   "metadata": {},
   "outputs": [],
   "source": [
    "minimos = df_train.min()\n",
    "maximos = df_train.max()"
   ]
  },
  {
   "cell_type": "code",
   "execution_count": null,
   "metadata": {},
   "outputs": [],
   "source": [
    "# Função para a normalização dos dados \n",
    "def normalize(x, minimos, maximos):\n",
    "    name = x.name\n",
    "    return (x-minimos[name])/(maximos[name]-minimos[name])"
   ]
  },
  {
   "cell_type": "markdown",
   "metadata": {},
   "source": [
    "Normalização da base de treino"
   ]
  },
  {
   "cell_type": "code",
   "execution_count": null,
   "metadata": {},
   "outputs": [],
   "source": [
    "df_train_n=df_train.apply(normalize, args=[minimos, maximos])"
   ]
  },
  {
   "cell_type": "markdown",
   "metadata": {},
   "source": [
    "Normalização da base teste"
   ]
  },
  {
   "cell_type": "code",
   "execution_count": null,
   "metadata": {},
   "outputs": [],
   "source": [
    "df_test_n=df_test.apply(normalize, args=[minimos, maximos])"
   ]
  },
  {
   "cell_type": "markdown",
   "metadata": {},
   "source": [
    "Obtendo dataframe apenas com os valores"
   ]
  },
  {
   "cell_type": "code",
   "execution_count": null,
   "metadata": {},
   "outputs": [],
   "source": [
    "array_train = df_train_n.values\n",
    "X_train = array_train[:,1:7]\n",
    "Y_train = array_train[:,0]\n",
    "\n",
    "array_test = df_test_n.values\n",
    "X_test = array_test[:,1:7]\n",
    "Y_test = array_test[:,0]"
   ]
  },
  {
   "cell_type": "markdown",
   "metadata": {},
   "source": [
    "## Construindo e treinando os modelos"
   ]
  },
  {
   "cell_type": "markdown",
   "metadata": {},
   "source": [
    "Usaremos 4 modelos de calssificação:\n",
    "    - Naive Bayes\n",
    "    - Randon Forest\n",
    "    - Regressão logística\n",
    "    - K-nn"
   ]
  },
  {
   "cell_type": "code",
   "execution_count": null,
   "metadata": {},
   "outputs": [],
   "source": [
    "from sklearn.naive_bayes import GaussianNB # Utilizando um classificador Naive Bayes\n",
    "from sklearn.ensemble import RandomForestClassifier # Randon forest\n",
    "from sklearn.linear_model import LogisticRegression # logistic\n",
    "from sklearn.neighbors import KNeighborsClassifier #k-nn"
   ]
  },
  {
   "cell_type": "markdown",
   "metadata": {},
   "source": [
    "#### Naive Bayes"
   ]
  },
  {
   "cell_type": "code",
   "execution_count": null,
   "metadata": {},
   "outputs": [],
   "source": [
    "# Criando o modelo preditivo\n",
    "modelo_v1 = GaussianNB()"
   ]
  },
  {
   "cell_type": "code",
   "execution_count": null,
   "metadata": {},
   "outputs": [],
   "source": [
    "# Treinando o modelo\n",
    "modelo_v1.fit(X_train, Y_train.ravel())"
   ]
  },
  {
   "cell_type": "markdown",
   "metadata": {},
   "source": [
    "#### Randon forest"
   ]
  },
  {
   "cell_type": "code",
   "execution_count": null,
   "metadata": {},
   "outputs": [],
   "source": [
    "modelo_v2 = RandomForestClassifier(random_state = 42)\n",
    "modelo_v2.fit(X_train, Y_train.ravel())"
   ]
  },
  {
   "cell_type": "markdown",
   "metadata": {},
   "source": [
    "#### Logistica"
   ]
  },
  {
   "cell_type": "code",
   "execution_count": null,
   "metadata": {},
   "outputs": [],
   "source": [
    "modelo_v3 = LogisticRegression(C = 0.7, random_state = 42)\n",
    "modelo_v3.fit(X_train, Y_train.ravel())"
   ]
  },
  {
   "cell_type": "markdown",
   "metadata": {},
   "source": [
    "#### K-nn"
   ]
  },
  {
   "cell_type": "code",
   "execution_count": null,
   "metadata": {},
   "outputs": [],
   "source": [
    "modelo_v4 = KNeighborsClassifier(n_neighbors=3)\n",
    "modelo_v4.fit(X_train, Y_train.ravel())"
   ]
  },
  {
   "cell_type": "markdown",
   "metadata": {},
   "source": [
    "### Verificando a exatidão no modelo na base de treino"
   ]
  },
  {
   "cell_type": "code",
   "execution_count": null,
   "metadata": {},
   "outputs": [],
   "source": [
    "from sklearn import metrics"
   ]
  },
  {
   "cell_type": "code",
   "execution_count": null,
   "metadata": {},
   "outputs": [],
   "source": [
    "nb_predict_train = modelo_v1.predict(X_train)\n",
    "rf_predict_train = modelo_v2.predict(X_train)\n",
    "lr_predict_train = modelo_v3.predict(X_train)\n",
    "knn_predict_train = modelo_v4.predict(X_train)"
   ]
  },
  {
   "cell_type": "code",
   "execution_count": null,
   "metadata": {},
   "outputs": [],
   "source": [
    "print(\"Naive Bayes - Exatidão (Accuracy): {0:.4f}\".format(metrics.accuracy_score(Y_train, nb_predict_train)))\n",
    "print(\"Randon forest - Exatidão (Accuracy): {0:.4f}\".format(metrics.accuracy_score(Y_train, rf_predict_train)))\n",
    "print(\"Logistica - Exatidão (Accuracy): {0:.4f}\".format(metrics.accuracy_score(Y_train, lr_predict_train)))\n",
    "print(\"k-nn - Exatidão (Accuracy): {0:.4f}\".format(metrics.accuracy_score(Y_train, knn_predict_train)))\n",
    "print()"
   ]
  },
  {
   "cell_type": "markdown",
   "metadata": {},
   "source": [
    "### Verificando a exatidão dos modelos na base de teste\n"
   ]
  },
  {
   "cell_type": "code",
   "execution_count": null,
   "metadata": {},
   "outputs": [],
   "source": [
    "nb_predict_test = modelo_v1.predict(X_test)\n",
    "rf_predict_test = modelo_v2.predict(X_test)\n",
    "lr_predict_test = modelo_v3.predict(X_test)\n",
    "knn_predict_test = modelo_v4.predict(X_test)"
   ]
  },
  {
   "cell_type": "code",
   "execution_count": null,
   "metadata": {},
   "outputs": [],
   "source": [
    "print(\"Naive Bayes - Exatidão (Accuracy): {0:.4f}\".format(metrics.accuracy_score(Y_test, nb_predict_test)))\n",
    "print(\"Randon forest - Exatidão (Accuracy): {0:.4f}\".format(metrics.accuracy_score(Y_test, rf_predict_test)))\n",
    "print(\"Logistica - Exatidão (Accuracy): {0:.4f}\".format(metrics.accuracy_score(Y_test, lr_predict_test)))\n",
    "print(\"k-nn - Exatidão (Accuracy): {0:.4f}\".format(metrics.accuracy_score(Y_test, knn_predict_test)))\n",
    "print()"
   ]
  },
  {
   "cell_type": "markdown",
   "metadata": {},
   "source": [
    "## Backtest\n",
    "Escolhemos o modelo de regressão logística por apresentar melhor acuracia na base de teste e de treino"
   ]
  },
  {
   "cell_type": "code",
   "execution_count": null,
   "metadata": {},
   "outputs": [],
   "source": [
    "backtest_n=backtest[['signal','dax', 'ibov_s', 'dji', 'sp500', 'nikkey', 'hsi']].apply(normalize, args=[minimos, maximos])"
   ]
  },
  {
   "cell_type": "code",
   "execution_count": null,
   "metadata": {},
   "outputs": [],
   "source": [
    "array_backtest = backtest_n.values\n",
    "X = array_backtest[:,1:7]"
   ]
  },
  {
   "cell_type": "code",
   "execution_count": null,
   "metadata": {},
   "outputs": [],
   "source": [
    "lr_predict_backtest = modelo_v3.predict(X)"
   ]
  },
  {
   "cell_type": "code",
   "execution_count": null,
   "metadata": {},
   "outputs": [],
   "source": [
    "signal = pd.Series(lr_predict_backtest, index =backtest.index) "
   ]
  },
  {
   "cell_type": "code",
   "execution_count": null,
   "metadata": {},
   "outputs": [],
   "source": [
    "backtest['signal_predict'] = np.where(signal==1,1,-1)"
   ]
  },
  {
   "cell_type": "code",
   "execution_count": null,
   "metadata": {},
   "outputs": [],
   "source": [
    "backtest['Return'] = (backtest['Close']- backtest['Open'])/backtest['Open']"
   ]
  },
  {
   "cell_type": "code",
   "execution_count": null,
   "metadata": {},
   "outputs": [],
   "source": [
    "backtest['retorno_diario'] = backtest['Return'] * backtest['signal_predict']"
   ]
  },
  {
   "cell_type": "code",
   "execution_count": null,
   "metadata": {},
   "outputs": [],
   "source": [
    "# Calculo do retorno acumulado.\n",
    "geometric_returns = (backtest['retorno_diario']+1).cumprod()\n"
   ]
  },
  {
   "cell_type": "code",
   "execution_count": null,
   "metadata": {},
   "outputs": [],
   "source": [
    "geometric_returns.plot(figsize=(10,5))\n",
    "plt.ylabel(\"Strategy Returns%\")\n",
    "plt.xlabel(\"Date\")\n",
    "plt.show()"
   ]
  },
  {
   "cell_type": "markdown",
   "metadata": {},
   "source": [
    "## Conclusão"
   ]
  },
  {
   "cell_type": "code",
   "execution_count": null,
   "metadata": {},
   "outputs": [],
   "source": [
    "print(\"O retorno acumulado da estratégia foi de : {0:.2f} % em {1:.0f} trading days\".format(geometric_returns[-1],backtest.shape[0] ))"
   ]
  },
  {
   "cell_type": "markdown",
   "metadata": {},
   "source": [
    "Uma otimização poderia ser obtida com a inserção de regras de gerenciamento de risco (stop e target), bem como a otimização do modelo para uma melhor acuraria."
   ]
  }
 ],
 "metadata": {
  "kernelspec": {
   "display_name": "Python 3",
   "language": "python",
   "name": "python3"
  },
  "language_info": {
   "codemirror_mode": {
    "name": "ipython",
    "version": 3
   },
   "file_extension": ".py",
   "mimetype": "text/x-python",
   "name": "python",
   "nbconvert_exporter": "python",
   "pygments_lexer": "ipython3",
   "version": "3.7.3"
  }
 },
 "nbformat": 4,
 "nbformat_minor": 4
}
